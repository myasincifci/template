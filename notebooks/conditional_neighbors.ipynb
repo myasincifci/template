{
 "cells": [
  {
   "cell_type": "code",
   "execution_count": 12,
   "metadata": {},
   "outputs": [],
   "source": [
    "import torch\n",
    "from tqdm import tqdm\n",
    "from sklearn.neighbors import KDTree\n",
    "import h5py"
   ]
  },
  {
   "cell_type": "code",
   "execution_count": 2,
   "metadata": {},
   "outputs": [],
   "source": [
    "n_embs = 100_000"
   ]
  },
  {
   "cell_type": "code",
   "execution_count": 3,
   "metadata": {},
   "outputs": [],
   "source": [
    "Z, D = torch.rand(n_embs, 2048), torch.randint(high=4, size=(n_embs, 1))"
   ]
  },
  {
   "cell_type": "code",
   "execution_count": 4,
   "metadata": {},
   "outputs": [
    {
     "name": "stderr",
     "output_type": "stream",
     "text": [
      "100%|██████████| 100000/100000 [00:00<00:00, 1193499.68it/s]\n"
     ]
    }
   ],
   "source": [
    "doms = {}\n",
    "for i, (z, d) in enumerate(tqdm(zip(Z, D), total=n_embs)):\n",
    "    d_ = d.item()\n",
    "    if d_ not in doms.keys():\n",
    "        doms[d_] = ([z], [i])\n",
    "    else:\n",
    "        doms[d_][0].append(z)\n",
    "        doms[d_][1].append(i)\n",
    "doms = {k:(torch.vstack(z).contiguous().detach(), torch.tensor(i).contiguous().detach()) for k, (z, i) in doms.items()}"
   ]
  },
  {
   "cell_type": "code",
   "execution_count": 5,
   "metadata": {},
   "outputs": [
    {
     "name": "stderr",
     "output_type": "stream",
     "text": [
      "100%|██████████| 4/4 [00:17<00:00,  4.45s/it]\n"
     ]
    }
   ],
   "source": [
    "trees = {k: KDTree(z, leaf_size=1_000) for k, (z, _) in tqdm(doms.items())}"
   ]
  },
  {
   "cell_type": "code",
   "execution_count": 7,
   "metadata": {},
   "outputs": [],
   "source": [
    "def nearest_ood_neighbors(z: torch.Tensor, k: int, d: int):\n",
    "    \"\"\"Returns global indices of k n-neighbors per domain in all domains \n",
    "    that are not d (reurns (D-1)*n neighbors in total).\n",
    "\n",
    "    Parameters\n",
    "    ----------\n",
    "    z : torch.Tensor\n",
    "        Embedding for which to find the nearest neighbors.\n",
    "    d : int\n",
    "        ID of domain from which z originates.\n",
    "    k : int\n",
    "        Number of neighbors to be returned \n",
    "    \"\"\"   \n",
    "\n",
    "    idcs = [] \n",
    "    (g := list(doms.keys())).remove(d)\n",
    "    for d_ in g:\n",
    "        local_idcs = trees[d_].query(z, k=k, return_distance=False)\n",
    "        global_idcs = [doms[d_][1][i] for i in local_idcs]\n",
    "        idcs.append(global_idcs[0])\n",
    "\n",
    "    return torch.hstack(idcs)"
   ]
  },
  {
   "cell_type": "markdown",
   "metadata": {},
   "source": [
    "### Make File "
   ]
  },
  {
   "cell_type": "code",
   "execution_count": 21,
   "metadata": {},
   "outputs": [],
   "source": [
    "f = h5py.File('neighborhood.hdf5', 'w')\n",
    "dset = f.create_dataset(\"neighborhood\", (1000, 9), dtype='i')"
   ]
  },
  {
   "cell_type": "code",
   "execution_count": 22,
   "metadata": {},
   "outputs": [
    {
     "data": {
      "text/plain": [
       "array([[0, 0, 0, ..., 0, 0, 0],\n",
       "       [0, 0, 0, ..., 0, 0, 0],\n",
       "       [0, 0, 0, ..., 0, 0, 0],\n",
       "       ...,\n",
       "       [0, 0, 0, ..., 0, 0, 0],\n",
       "       [0, 0, 0, ..., 0, 0, 0],\n",
       "       [0, 0, 0, ..., 0, 0, 0]], dtype=int32)"
      ]
     },
     "execution_count": 22,
     "metadata": {},
     "output_type": "execute_result"
    }
   ],
   "source": [
    "f['neighborhood'][:]"
   ]
  },
  {
   "cell_type": "code",
   "execution_count": 23,
   "metadata": {},
   "outputs": [
    {
     "name": "stderr",
     "output_type": "stream",
     "text": [
      "100%|██████████| 1000/1000 [02:04<00:00,  8.06it/s]\n"
     ]
    }
   ],
   "source": [
    "for i, (z, d) in enumerate(tqdm(list(zip(Z, D))[:1000])):\n",
    "    f['neighborhood'][i] = nearest_ood_neighbors(z[None,:], 3, d)"
   ]
  },
  {
   "cell_type": "code",
   "execution_count": 24,
   "metadata": {},
   "outputs": [],
   "source": [
    "f.close()"
   ]
  }
 ],
 "metadata": {
  "kernelspec": {
   "display_name": "base",
   "language": "python",
   "name": "python3"
  },
  "language_info": {
   "codemirror_mode": {
    "name": "ipython",
    "version": 3
   },
   "file_extension": ".py",
   "mimetype": "text/x-python",
   "name": "python",
   "nbconvert_exporter": "python",
   "pygments_lexer": "ipython3",
   "version": "3.9.13"
  }
 },
 "nbformat": 4,
 "nbformat_minor": 2
}
