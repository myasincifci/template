{
 "cells": [
  {
   "cell_type": "code",
   "execution_count": 1,
   "metadata": {},
   "outputs": [],
   "source": [
    "from typing import Any, OrderedDict\n",
    "\n",
    "import torch\n",
    "from torch import nn\n",
    "from torch.nn import functional as F\n",
    "from torch.autograd import Function\n",
    "\n",
    "from torchvision import transforms as T\n",
    "from torchvision.models.resnet import resnet50, ResNet50_Weights\n",
    "\n",
    "import pytorch_lightning as L\n",
    "\n",
    "from torchmetrics import Accuracy\n",
    "\n",
    "from wilds import get_dataset\n",
    "from wilds.common.data_loaders import get_eval_loader, get_train_loader\n",
    "from wilds.common.grouper import CombinatorialGrouper\n",
    "\n",
    "from utils import get_backbone_from_ckpt, DomainMapper, evaluate"
   ]
  },
  {
   "cell_type": "markdown",
   "metadata": {},
   "source": [
    "<ol>\n",
    "    <li>Reproduce domain shift problem and visualize</li>\n",
    "    <li>Test L-DANN</li>\n",
    "</ol>"
   ]
  },
  {
   "cell_type": "markdown",
   "metadata": {},
   "source": [
    "To demonstrate the domain shift that is present in the chamelyon17 dataset we are evaluating the in-domain and out-of-domain accuracies:"
   ]
  },
  {
   "cell_type": "code",
   "execution_count": 2,
   "metadata": {},
   "outputs": [],
   "source": [
    "BS = 256\n",
    "\n",
    "# Load data\n",
    "transform = T.Compose([\n",
    "    T.ToTensor()\n",
    "])\n",
    "\n",
    "dataset = get_dataset(\"camelyon17\", root_dir=\"../../data/\")\n",
    "train_set = dataset.get_subset(\"train\", transform=transform, frac=1)#10_000/302436)\n",
    "val_set = dataset.get_subset(\"id_val\", transform=transform, frac=1) # in-domain\n",
    "test_set = dataset.get_subset('test', transform=transform, frac=1)  # out-of-domain\n",
    "\n",
    "val_set_s = dataset.get_subset(\"id_val\", transform=transform, frac=1/5) # in-domain\n",
    "test_set_s = dataset.get_subset('test', transform=transform, frac=1/20)  # out-of-domain\n",
    "\n",
    "grouper = CombinatorialGrouper(dataset, ['hospital'])\n",
    "dom_mapper = DomainMapper(train_set.metadata_array[:,0])\n",
    "\n",
    "train_loader = get_train_loader(\"standard\", train_set, grouper=grouper, uniform_over_groups=True, batch_size=BS, num_workers=8)\n",
    "val_loader = get_eval_loader('standard', val_set, batch_size=BS, num_workers=8)\n",
    "test_loader = get_eval_loader('standard', test_set, batch_size=BS, num_workers=8)\n",
    "\n",
    "val_loader_s = get_eval_loader('standard', val_set_s, batch_size=BS, num_workers=8)\n",
    "test_loader_s = get_eval_loader('standard', test_set_s, batch_size=BS, num_workers=8)"
   ]
  },
  {
   "cell_type": "code",
   "execution_count": 3,
   "metadata": {},
   "outputs": [],
   "source": [
    "# Define model\n",
    "class ReverseLayerF(Function):\n",
    "    @staticmethod\n",
    "    def forward(ctx, x, alpha):\n",
    "        ctx.alpha = alpha\n",
    "\n",
    "        return x.view_as(x)\n",
    "\n",
    "    @staticmethod\n",
    "    def backward(ctx, grad_output):\n",
    "        output = grad_output.neg() * ctx.alpha\n",
    "\n",
    "        return output, None\n",
    "\n",
    "class LDANN(nn.Module):\n",
    "    def __init__(self, weights, alpha=10.0) -> None:\n",
    "        super().__init__()\n",
    "        self.backbone = self._make_backbone(weights)\n",
    "        # self.disc_head = nn.Linear(64+256+512+1024+2048, 3)\n",
    "        self.disc_head = nn.Linear(2048, 3)\n",
    "\n",
    "        self.crit_pred = nn.CrossEntropyLoss()\n",
    "        self.crit_disc = nn.CrossEntropyLoss()\n",
    "\n",
    "        self.alpha = alpha\n",
    "    \n",
    "    def forward(self, x):\n",
    "        x = self.backbone.conv1(x)\n",
    "        x = self.backbone.bn1(x)\n",
    "        x = self.backbone.relu(x)\n",
    "        x = self.backbone.maxpool(x)\n",
    "\n",
    "        z0 = x.mean(dim=[2,3])\n",
    "\n",
    "        x = self.backbone.layer1(x)\n",
    "\n",
    "        z1 = x.mean(dim=[2,3])\n",
    "\n",
    "        x = self.backbone.layer2(x)\n",
    "        \n",
    "        z2 = x.mean(dim=[2,3])\n",
    "\n",
    "        x = self.backbone.layer3(x)\n",
    "        \n",
    "        z3 = x.mean(dim=[2,3])\n",
    "\n",
    "        x = self.backbone.layer4(x)\n",
    "\n",
    "        z4 = x.mean(dim=[2,3])\n",
    "\n",
    "        x = self.backbone.avgpool(x)\n",
    "\n",
    "        f = torch.flatten(x, 1)\n",
    "\n",
    "        # z_ = torch.cat([z0, z1, z2, z3, z4], dim=1)\n",
    "        z_ = f\n",
    "        z_ = ReverseLayerF.apply(z_, self.alpha)\n",
    "\n",
    "        y = self.backbone.fc(f)\n",
    "        z = self.disc_head(z_)\n",
    "\n",
    "        return y, z\n",
    "    \n",
    "    def embed(self, x: torch.Tensor):\n",
    "        x = self.backbone.conv1(x)\n",
    "        x = self.backbone.bn1(x)\n",
    "        x = self.backbone.relu(x)\n",
    "        x = self.backbone.maxpool(x)\n",
    "\n",
    "        z0 = x.mean(dim=[2,3])\n",
    "\n",
    "        x = self.backbone.layer1(x)\n",
    "        z1 = x.mean(dim=[2,3])\n",
    "\n",
    "        x = self.backbone.layer2(x)\n",
    "        z2 = x.mean(dim=[2,3])\n",
    "        \n",
    "        x = self.backbone.layer3(x)\n",
    "        z3 = x.mean(dim=[2,3])\n",
    "        \n",
    "        x = self.backbone.layer4(x)\n",
    "        z4 = x.mean(dim=[2,3])\n",
    "\n",
    "        x = self.backbone.avgpool(x).squeeze()\n",
    "    \n",
    "        return {\n",
    "            \"z0\": z0,\n",
    "            \"z1\": z1,\n",
    "            \"z2\": z2,\n",
    "            \"z3\": z3,\n",
    "            \"z4\": z4,\n",
    "            \"x\": x\n",
    "        }\n",
    "    \n",
    "    def _make_backbone(self, weights):\n",
    "        if weights == \"scratch\":\n",
    "            backbone = resnet50(num_classes=2)\n",
    "        elif weights == \"ImageNet\":\n",
    "            backbone = resnet50(weights=ResNet50_Weights.DEFAULT)\n",
    "            backbone.fc = nn.Linear(2048, 2)\n",
    "        else:\n",
    "            backbone = resnet50(num_classes=2)\n",
    "            print(weights)\n",
    "            sd = get_backbone_from_ckpt(weights)\n",
    "            missing_keys, unexpected_keys = backbone.load_state_dict(sd, strict=False)\n",
    "            print(\"missing:\", missing_keys, \"unexpected:\", unexpected_keys)\n",
    "\n",
    "        return backbone\n",
    "\n",
    "class SimpleCNN(L.LightningModule):\n",
    "    def __init__(self, model, grouper, dom_mapper, *args: Any, **kwargs: Any) -> None:\n",
    "        super().__init__(*args, **kwargs)\n",
    "\n",
    "        self.model = model\n",
    "\n",
    "        self.criterion = torch.nn.CrossEntropyLoss()\n",
    "        self.optimizer = torch.optim.AdamW(params=self.model.backbone.fc.parameters(), lr=1e-4)\n",
    "        self.metric = Accuracy(num_classes=2, task='multiclass')\n",
    "\n",
    "        self.grouper: CombinatorialGrouper = grouper\n",
    "        self.dom_mapper: DomainMapper = dom_mapper\n",
    "\n",
    "        self.alpha = self.model.alpha\n",
    "\n",
    "    def training_step(self, batch, batch_idx):\n",
    "        X, t, M = batch\n",
    "\n",
    "        y, z = self.model(X)\n",
    "        \n",
    "        loss_y = self.criterion(y, t)\n",
    "        self.log(\"loss_y\", loss_y)\n",
    "\n",
    "        d = self.grouper.metadata_to_group(M.cpu())\n",
    "        d = self.dom_mapper(d).cuda()\n",
    "\n",
    "        loss_d = self.criterion(z, d)        \n",
    "        self.log(\"loss_d\", loss_d)\n",
    "\n",
    "        if self.alpha > 0:\n",
    "            return loss_y + loss_d\n",
    "        else:\n",
    "            return loss_y\n",
    "    \n",
    "    def validation_step(self, batch, batch_idx, dataloader_idx):\n",
    "        X, t, _ = batch\n",
    "\n",
    "        y, _ = self.model(X)\n",
    "        \n",
    "        loss = self.criterion(y, t)\n",
    "\n",
    "        self.log('val/loss', loss)\n",
    "\n",
    "        return loss\n",
    "    \n",
    "    def test_step(self, batch, batch_idx, dataloader_idx):\n",
    "        X, t, _ = batch\n",
    "\n",
    "        y, _ = self.model(X)\n",
    "        y = y.argmax(dim=1)\n",
    "        \n",
    "        accuracy = self.metric(y, t)\n",
    "\n",
    "        self.log('accuracy', accuracy)\n",
    "    \n",
    "    def configure_optimizers(self) -> Any:\n",
    "        return self.optimizer"
   ]
  },
  {
   "cell_type": "code",
   "execution_count": 4,
   "metadata": {},
   "outputs": [],
   "source": [
    "def get_backbone_from_ckpt(ckpt_path: str) -> torch.nn.Module:\n",
    "    state_dict = torch.load(ckpt_path)[\"state_dict\"]\n",
    "    state_dict = OrderedDict([\n",
    "        (\".\".join(name.split(\".\")[1:]), param) for name, param in state_dict.items() if name.startswith(\"backbone\")\n",
    "    ])\n",
    "\n",
    "    return state_dict"
   ]
  },
  {
   "cell_type": "code",
   "execution_count": 5,
   "metadata": {},
   "outputs": [
    {
     "name": "stderr",
     "output_type": "stream",
     "text": [
      "GPU available: True (cuda), used: True\n",
      "TPU available: False, using: 0 TPU cores\n",
      "IPU available: False, using: 0 IPUs\n",
      "HPU available: False, using: 0 HPUs\n"
     ]
    }
   ],
   "source": [
    "trainer = L.Trainer(\n",
    "    accelerator=\"auto\", \n",
    "    max_epochs=1,\n",
    "    val_check_interval=len(train_loader)\n",
    ")\n",
    "\n",
    "# plain_resnet = resnet18(num_classes=2)\n",
    "ldann = LDANN(weights='ImageNet', alpha=0.0)\n",
    "model = SimpleCNN(\n",
    "    model=ldann,\n",
    "    grouper=grouper,\n",
    "    dom_mapper=dom_mapper\n",
    ")"
   ]
  },
  {
   "cell_type": "code",
   "execution_count": 6,
   "metadata": {},
   "outputs": [
    {
     "name": "stderr",
     "output_type": "stream",
     "text": [
      "LOCAL_RANK: 0 - CUDA_VISIBLE_DEVICES: [0]\n",
      "\n",
      "  | Name      | Type               | Params\n",
      "-------------------------------------------------\n",
      "0 | model     | LDANN              | 23.5 M\n",
      "1 | criterion | CrossEntropyLoss   | 0     \n",
      "2 | metric    | MulticlassAccuracy | 0     \n",
      "-------------------------------------------------\n",
      "23.5 M    Trainable params\n",
      "0         Non-trainable params\n",
      "23.5 M    Total params\n",
      "94.073    Total estimated model params size (MB)\n"
     ]
    },
    {
     "data": {
      "application/vnd.jupyter.widget-view+json": {
       "model_id": "7d6422b4581c4500a4b7fb9c0dd776bd",
       "version_major": 2,
       "version_minor": 0
      },
      "text/plain": [
       "Sanity Checking: 0it [00:00, ?it/s]"
      ]
     },
     "metadata": {},
     "output_type": "display_data"
    },
    {
     "data": {
      "application/vnd.jupyter.widget-view+json": {
       "model_id": "18ae82adf4414d17ae6ab41ff12835c7",
       "version_major": 2,
       "version_minor": 0
      },
      "text/plain": [
       "Training: 0it [00:00, ?it/s]"
      ]
     },
     "metadata": {},
     "output_type": "display_data"
    },
    {
     "data": {
      "application/vnd.jupyter.widget-view+json": {
       "model_id": "941a219f2f63410cab06cdb2438b9b2a",
       "version_major": 2,
       "version_minor": 0
      },
      "text/plain": [
       "Validation: 0it [00:00, ?it/s]"
      ]
     },
     "metadata": {},
     "output_type": "display_data"
    },
    {
     "name": "stderr",
     "output_type": "stream",
     "text": [
      "`Trainer.fit` stopped: `max_epochs=1` reached.\n"
     ]
    }
   ],
   "source": [
    "trainer.fit(\n",
    "    model,\n",
    "    train_dataloaders=train_loader,\n",
    "    val_dataloaders=[val_loader_s, test_loader_s],\n",
    ")"
   ]
  },
  {
   "cell_type": "code",
   "execution_count": 7,
   "metadata": {},
   "outputs": [
    {
     "name": "stderr",
     "output_type": "stream",
     "text": [
      "LOCAL_RANK: 0 - CUDA_VISIBLE_DEVICES: [0]\n"
     ]
    },
    {
     "data": {
      "application/vnd.jupyter.widget-view+json": {
       "model_id": "34477d5ccfce45dca06b9585763f2efc",
       "version_major": 2,
       "version_minor": 0
      },
      "text/plain": [
       "Testing: 0it [00:00, ?it/s]"
      ]
     },
     "metadata": {},
     "output_type": "display_data"
    },
    {
     "data": {
      "text/html": [
       "<pre style=\"white-space:pre;overflow-x:auto;line-height:normal;font-family:Menlo,'DejaVu Sans Mono',consolas,'Courier New',monospace\">┏━━━━━━━━━━━━━━━━━━━━━━━━━━━┳━━━━━━━━━━━━━━━━━━━━━━━━━━━┳━━━━━━━━━━━━━━━━━━━━━━━━━━━┓\n",
       "┃<span style=\"font-weight: bold\">        Test metric        </span>┃<span style=\"font-weight: bold\">       DataLoader 0        </span>┃<span style=\"font-weight: bold\">       DataLoader 1        </span>┃\n",
       "┡━━━━━━━━━━━━━━━━━━━━━━━━━━━╇━━━━━━━━━━━━━━━━━━━━━━━━━━━╇━━━━━━━━━━━━━━━━━━━━━━━━━━━┩\n",
       "│<span style=\"color: #008080; text-decoration-color: #008080\">         accuracy          </span>│<span style=\"color: #800080; text-decoration-color: #800080\">    0.9218116998672485     </span>│<span style=\"color: #800080; text-decoration-color: #800080\">    0.7648199796676636     </span>│\n",
       "└───────────────────────────┴───────────────────────────┴───────────────────────────┘\n",
       "</pre>\n"
      ],
      "text/plain": [
       "┏━━━━━━━━━━━━━━━━━━━━━━━━━━━┳━━━━━━━━━━━━━━━━━━━━━━━━━━━┳━━━━━━━━━━━━━━━━━━━━━━━━━━━┓\n",
       "┃\u001b[1m \u001b[0m\u001b[1m       Test metric       \u001b[0m\u001b[1m \u001b[0m┃\u001b[1m \u001b[0m\u001b[1m      DataLoader 0       \u001b[0m\u001b[1m \u001b[0m┃\u001b[1m \u001b[0m\u001b[1m      DataLoader 1       \u001b[0m\u001b[1m \u001b[0m┃\n",
       "┡━━━━━━━━━━━━━━━━━━━━━━━━━━━╇━━━━━━━━━━━━━━━━━━━━━━━━━━━╇━━━━━━━━━━━━━━━━━━━━━━━━━━━┩\n",
       "│\u001b[36m \u001b[0m\u001b[36m        accuracy         \u001b[0m\u001b[36m \u001b[0m│\u001b[35m \u001b[0m\u001b[35m   0.9218116998672485    \u001b[0m\u001b[35m \u001b[0m│\u001b[35m \u001b[0m\u001b[35m   0.7648199796676636    \u001b[0m\u001b[35m \u001b[0m│\n",
       "└───────────────────────────┴───────────────────────────┴───────────────────────────┘\n"
      ]
     },
     "metadata": {},
     "output_type": "display_data"
    },
    {
     "data": {
      "text/plain": [
       "[{'accuracy/dataloader_idx_0': 0.9218116998672485},\n",
       " {'accuracy/dataloader_idx_1': 0.7648199796676636}]"
      ]
     },
     "execution_count": 7,
     "metadata": {},
     "output_type": "execute_result"
    }
   ],
   "source": [
    "trainer.test(\n",
    "    model=model,\n",
    "    dataloaders={\n",
    "        \"val\": val_loader,\n",
    "        \"test\": test_loader,\n",
    "    },\n",
    ")"
   ]
  },
  {
   "cell_type": "code",
   "execution_count": 8,
   "metadata": {},
   "outputs": [],
   "source": [
    "# from torch.utils.data import DataLoader\n",
    "# from tqdm import tqdm"
   ]
  },
  {
   "cell_type": "code",
   "execution_count": 9,
   "metadata": {},
   "outputs": [],
   "source": [
    "# train_loader.batch_size"
   ]
  },
  {
   "cell_type": "code",
   "execution_count": 10,
   "metadata": {},
   "outputs": [],
   "source": [
    "# @torch.no_grad()\n",
    "# def compute_embeddings(model: nn.Module, train_loader: DataLoader, test_loader: DataLoader):\n",
    "#     num_train_samples = len(train_loader.dataset)\n",
    "#     num_test_samples  = len(test_loader.dataset)\n",
    "    \n",
    "#     train = {\n",
    "#         'embeddings': torch.empty(num_train_samples, 2048),\n",
    "#         'labels'    : torch.empty(num_train_samples)\n",
    "#     }\n",
    "#     BS = train_loader.batch_size\n",
    "#     for i, (X, t, _) in enumerate(tqdm(train_loader)):\n",
    "#         bs = X.shape[0]\n",
    "#         train['embeddings'][i*BS:i*BS+bs] = model(X.cuda()).cpu()\n",
    "#         train['labels'][i*BS:i*BS+bs]     = t\n",
    "\n",
    "#     test = {\n",
    "#         'embeddings': torch.empty(num_test_samples, 2048),\n",
    "#         'labels'    : torch.empty(num_test_samples)\n",
    "#     }\n",
    "#     BS = test_loader.batch_size\n",
    "#     for i, (X, t, _) in enumerate(tqdm(test_loader)):\n",
    "#         bs = X.shape[0]\n",
    "#         test['embeddings'][i*BS:i*BS+bs] = model(X.cuda()).cpu()\n",
    "#         test['labels'][i*BS:i*BS+bs]     = t\n",
    "\n",
    "#     return train, test"
   ]
  },
  {
   "cell_type": "code",
   "execution_count": 11,
   "metadata": {},
   "outputs": [],
   "source": [
    "# model_ = model.model.backbone\n",
    "# model_.fc = nn.Identity()\n",
    "# model_ = model_.cuda()\n",
    "# train_embs, test_embs = compute_embeddings(model_, train_loader, test_loader)"
   ]
  },
  {
   "cell_type": "code",
   "execution_count": 12,
   "metadata": {},
   "outputs": [],
   "source": [
    "# from sklearn.preprocessing import StandardScaler\n",
    "# from sklearn.linear_model import LogisticRegression\n",
    "# from sklearn.metrics import classification_report\n",
    "# from sklearn.pipeline import make_pipeline"
   ]
  },
  {
   "cell_type": "code",
   "execution_count": 13,
   "metadata": {},
   "outputs": [],
   "source": [
    "# lor_b = make_pipeline(\n",
    "#         StandardScaler(), \n",
    "#         LogisticRegression(max_iter=10_000, verbose=1,\n",
    "#     )\n",
    "# )"
   ]
  },
  {
   "cell_type": "code",
   "execution_count": 14,
   "metadata": {},
   "outputs": [],
   "source": [
    "# lor_b.fit(train_embs['embeddings'], train_embs['labels'])"
   ]
  }
 ],
 "metadata": {
  "kernelspec": {
   "display_name": "base",
   "language": "python",
   "name": "python3"
  },
  "language_info": {
   "codemirror_mode": {
    "name": "ipython",
    "version": 3
   },
   "file_extension": ".py",
   "mimetype": "text/x-python",
   "name": "python",
   "nbconvert_exporter": "python",
   "pygments_lexer": "ipython3",
   "version": "3.9.13"
  }
 },
 "nbformat": 4,
 "nbformat_minor": 2
}
