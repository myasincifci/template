{
 "cells": [
  {
   "cell_type": "code",
   "execution_count": 2,
   "metadata": {},
   "outputs": [],
   "source": [
    "import numpy as np\n",
    "from wilds.datasets.wilds_dataset import WILDSSubset\n",
    "from wilds.datasets.camelyon17_dataset import Camelyon17Dataset"
   ]
  },
  {
   "cell_type": "code",
   "execution_count": 3,
   "metadata": {},
   "outputs": [],
   "source": [
    "class WILDSSubsetMod(WILDSSubset):\n",
    "    def __getitem__(self, idx):\n",
    "        x, t, m =  super().__getitem__(idx)\n",
    "        d = m[0]\n",
    "\n",
    "        # Get x_ by uniformly sampling from indices that have the same class label but not domain\n",
    "        ds: Camelyon17Dataset = self.dataset\n",
    "        \n",
    "        I = self.indices # Indices of subset\n",
    "        D = ds.metadata_array[I,0]\n",
    "        T = ds.y_array[I]\n",
    "        R = np.arange(len(I))\n",
    "\n",
    "        idx_ = np.random.choice(R[(D != d)&(T == t)], 1)\n",
    "\n",
    "        x_ = super().__getitem__(idx_)\n",
    "\n",
    "        return {\n",
    "            'x': x,\n",
    "            'x_': x_,\n",
    "            't': t,\n",
    "            'm': m\n",
    "        }"
   ]
  },
  {
   "cell_type": "code",
   "execution_count": 4,
   "metadata": {},
   "outputs": [],
   "source": [
    "class Camelyon17DatasetMod(Camelyon17Dataset):\n",
    "    def get_subset(self, split, frac=1, transform=None):\n",
    "        \"\"\"\n",
    "        Args:\n",
    "            - split (str): Split identifier, e.g., 'train', 'val', 'test'.\n",
    "                           Must be in self.split_dict.\n",
    "            - frac (float): What fraction of the split to randomly sample.\n",
    "                            Used for fast development on a small dataset.\n",
    "            - transform (function): Any data transformations to be applied to the input x.\n",
    "        Output:\n",
    "            - subset (WILDSSubset): A (potentially subsampled) subset of the WILDSDataset.\n",
    "        \"\"\"\n",
    "        if split not in self.split_dict:\n",
    "            raise ValueError(f\"Split {split} not found in dataset's split_dict.\")\n",
    "\n",
    "        split_mask = self.split_array == self.split_dict[split]\n",
    "        split_idx = np.where(split_mask)[0]\n",
    "\n",
    "        if frac < 1.0:\n",
    "            # Randomly sample a fraction of the split\n",
    "            num_to_retain = int(np.round(float(len(split_idx)) * frac))\n",
    "            split_idx = np.sort(np.random.permutation(split_idx)[:num_to_retain])\n",
    "\n",
    "        return WILDSSubsetMod(self, split_idx, transform)"
   ]
  },
  {
   "cell_type": "code",
   "execution_count": 6,
   "metadata": {},
   "outputs": [
    {
     "data": {
      "text/plain": [
       "__main__.WILDSSubsetMod"
      ]
     },
     "execution_count": 6,
     "metadata": {},
     "output_type": "execute_result"
    }
   ],
   "source": [
    "dataset = Camelyon17DatasetMod(root_dir='../../data/')\n",
    "train_set = dataset.get_subset('train')\n",
    "type(train_set)"
   ]
  },
  {
   "cell_type": "code",
   "execution_count": 15,
   "metadata": {},
   "outputs": [
    {
     "data": {
      "text/plain": [
       "tensor([1, 1, 1,  ..., 0, 0, 0])"
      ]
     },
     "execution_count": 15,
     "metadata": {},
     "output_type": "execute_result"
    }
   ],
   "source": [
    "dataset.y_array"
   ]
  }
 ],
 "metadata": {
  "kernelspec": {
   "display_name": "base",
   "language": "python",
   "name": "python3"
  },
  "language_info": {
   "codemirror_mode": {
    "name": "ipython",
    "version": 3
   },
   "file_extension": ".py",
   "mimetype": "text/x-python",
   "name": "python",
   "nbconvert_exporter": "python",
   "pygments_lexer": "ipython3",
   "version": "3.9.13"
  }
 },
 "nbformat": 4,
 "nbformat_minor": 2
}
