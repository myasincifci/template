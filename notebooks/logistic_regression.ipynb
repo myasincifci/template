{
 "cells": [
  {
   "cell_type": "code",
   "execution_count": 1,
   "metadata": {},
   "outputs": [],
   "source": [
    "import h5py\n",
    "import numpy as np\n",
    "\n",
    "from sklearn.preprocessing import StandardScaler\n",
    "from sklearn.model_selection import train_test_split\n",
    "from sklearn.linear_model import LogisticRegression\n",
    "from sklearn.metrics import classification_report\n",
    "from sklearn.pipeline import make_pipeline\n",
    "from sklearn.svm import SVC\n",
    "\n",
    "import matplotlib.pyplot as plt"
   ]
  },
  {
   "cell_type": "code",
   "execution_count": 2,
   "metadata": {},
   "outputs": [],
   "source": [
    "SEED = 42"
   ]
  },
  {
   "cell_type": "code",
   "execution_count": 3,
   "metadata": {},
   "outputs": [],
   "source": [
    "file_sc = h5py.File('../data/Scratch-1700580298.4937065-all-embeddings.h5', 'r')"
   ]
  },
  {
   "cell_type": "code",
   "execution_count": 7,
   "metadata": {},
   "outputs": [],
   "source": [
    "file_bt = h5py.File('../data/Barlow-Twins-F1-3-1701173902.320041-all-embeddings.h5', 'r')"
   ]
  },
  {
   "cell_type": "code",
   "execution_count": 4,
   "metadata": {},
   "outputs": [
    {
     "data": {
      "text/plain": [
       "(array([ 59436.,      0.,  34904.,      0.,      0.,  85054.,      0.,\n",
       "        129838.,      0., 146722.]),\n",
       " array([0.        , 0.40000001, 0.80000001, 1.20000005, 1.60000002,\n",
       "        2.        , 2.4000001 , 2.79999995, 3.20000005, 3.5999999 ,\n",
       "        4.        ]),\n",
       " <BarContainer object of 10 artists>)"
      ]
     },
     "execution_count": 4,
     "metadata": {},
     "output_type": "execute_result"
    },
    {
     "data": {
      "image/png": "[encoded data removed]",
      "text/plain": [
       "<Figure size 640x480 with 1 Axes>"
      ]
     },
     "metadata": {},
     "output_type": "display_data"
    }
   ],
   "source": [
    "plt.hist(file_bt[\"domains\"][:])"
   ]
  },
  {
   "cell_type": "code",
   "execution_count": 4,
   "metadata": {},
   "outputs": [],
   "source": [
    "def get_ds_indices(file, samples_pd):\n",
    "    domains = file['domains']\n",
    "\n",
    "    indices = np.arange(len(domains))\n",
    "    indices_pd = {i: np.random.choice(indices[domains[:] == i], samples_pd, replace=False) for i in np.arange(5, dtype=float)}\n",
    "    \n",
    "    return sorted(np.concatenate([v for _,v in indices_pd.items()]))"
   ]
  },
  {
   "attachments": {},
   "cell_type": "markdown",
   "metadata": {},
   "source": [
    "### Check embeddings"
   ]
  },
  {
   "cell_type": "code",
   "execution_count": 5,
   "metadata": {},
   "outputs": [],
   "source": [
    "domains_sc = file_sc['domains']\n",
    "indices_sc = np.arange(len(domains_sc))\n",
    "\n",
    "test_indices_sc = sorted(indices_sc[((domains_sc[:] == 1.0) | (domains_sc[:] == 2.0))])\n",
    "train_indices_sc = sorted(indices_sc[~((domains_sc[:] == 1.0) | (domains_sc[:] == 2.0))])\n",
    "\n",
    "X_sc_train, y_sc_train = file_sc['embeddings'][train_indices_sc], file_sc['labels'][train_indices_sc]\n",
    "X_sc_test, y_sc_test = file_sc['embeddings'][test_indices_sc], file_sc['labels'][test_indices_sc] "
   ]
  },
  {
   "cell_type": "code",
   "execution_count": 6,
   "metadata": {},
   "outputs": [
    {
     "name": "stderr",
     "output_type": "stream",
     "text": [
      "[Parallel(n_jobs=1)]: Using backend SequentialBackend with 1 concurrent workers.\n",
      " This problem is unconstrained.\n"
     ]
    },
    {
     "name": "stdout",
     "output_type": "stream",
     "text": [
      "RUNNING THE L-BFGS-B CODE\n",
      "\n",
      "           * * *\n",
      "\n",
      "Machine precision = 2.220D-16\n",
      " N =         2049     M =           10\n",
      "\n",
      "At X0         0 variables are exactly at the bounds\n",
      "\n",
      "At iterate    0    f=  2.32895D+05    |proj g|=  3.87614D+04\n",
      "\n",
      "At iterate   50    f=  1.70376D+04    |proj g|=  7.54590D+02\n",
      "\n",
      "At iterate  100    f=  1.25958D+04    |proj g|=  1.75884D+02\n",
      "\n",
      "           * * *\n",
      "\n",
      "Tit   = total number of iterations\n",
      "Tnf   = total number of function evaluations\n",
      "Tnint = total number of segments explored during Cauchy searches\n",
      "Skip  = number of BFGS updates skipped\n",
      "Nact  = number of active bounds at final generalized Cauchy point\n",
      "Projg = norm of the final projected gradient\n",
      "F     = final function value\n",
      "\n",
      "           * * *\n",
      "\n",
      "   N    Tit     Tnf  Tnint  Skip  Nact     Projg        F\n",
      " 2049    100    119      1     0     0   1.759D+02   1.260D+04\n",
      "  F =   12595.803623451353     \n",
      "\n",
      "STOP: TOTAL NO. of ITERATIONS REACHED LIMIT                 \n"
     ]
    },
    {
     "name": "stderr",
     "output_type": "stream",
     "text": [
      "/home/yasin/anaconda3/lib/python3.9/site-packages/sklearn/linear_model/_logistic.py:814: ConvergenceWarning: lbfgs failed to converge (status=1):\n",
      "STOP: TOTAL NO. of ITERATIONS REACHED LIMIT.\n",
      "\n",
      "Increase the number of iterations (max_iter) or scale the data as shown in:\n",
      "    https://scikit-learn.org/stable/modules/preprocessing.html\n",
      "Please also refer to the documentation for alternative solver options:\n",
      "    https://scikit-learn.org/stable/modules/linear_model.html#logistic-regression\n",
      "  n_iter_i = _check_optimize_result(\n",
      "[Parallel(n_jobs=1)]: Done   1 out of   1 | elapsed:   52.9s finished\n"
     ]
    },
    {
     "name": "stdout",
     "output_type": "stream",
     "text": [
      "              precision    recall  f1-score   support\n",
      "\n",
      "         0.0       0.93      0.99      0.96     59979\n",
      "         1.0       0.99      0.93      0.96     59979\n",
      "\n",
      "    accuracy                           0.96    119958\n",
      "   macro avg       0.96      0.96      0.96    119958\n",
      "weighted avg       0.96      0.96      0.96    119958\n",
      "\n"
     ]
    },
    {
     "data": {
      "image/png": "[encoded data removed]",
      "text/plain": [
       "<Figure size 640x480 with 1 Axes>"
      ]
     },
     "metadata": {},
     "output_type": "display_data"
    }
   ],
   "source": [
    "clf_lr = make_pipeline(\n",
    "    StandardScaler(),\n",
    "    LogisticRegression(verbose=1)\n",
    ")\n",
    "clf_lr.fit(X_sc_train, y_sc_train)\n",
    "pred = clf_lr.predict(X_sc_test)\n",
    "plt.hist(pred)\n",
    "print(classification_report(y_sc_test, pred))"
   ]
  },
  {
   "cell_type": "code",
   "execution_count": 6,
   "metadata": {},
   "outputs": [],
   "source": [
    "'''\n",
    "1: Val. OOD\n",
    "2: Test OOD\n",
    "'''\n",
    "\n",
    "domains_bt = file_bt['domains']\n",
    "indices_bt = np.arange(len(domains_bt))\n",
    "\n",
    "test_indices_bt = sorted(indices_bt[((domains_bt[:] == 1.0) | (domains_bt[:] == 2.0))])\n",
    "train_indices_bt = sorted(indices_bt[~((domains_bt[:] == 1.0) | (domains_bt[:] == 2.0))])\n",
    "\n",
    "X_bt_train, y_bt_train = file_bt['embeddings'][train_indices_bt], file_bt['labels'][train_indices_bt]\n",
    "X_bt_test, y_bt_test = file_bt['embeddings'][test_indices_bt], file_bt['labels'][test_indices_bt] "
   ]
  },
  {
   "cell_type": "code",
   "execution_count": 7,
   "metadata": {},
   "outputs": [
    {
     "name": "stderr",
     "output_type": "stream",
     "text": [
      "[Parallel(n_jobs=1)]: Using backend SequentialBackend with 1 concurrent workers.\n"
     ]
    },
    {
     "name": "stdout",
     "output_type": "stream",
     "text": [
      "RUNNING THE L-BFGS-B CODE\n",
      "\n",
      "           * * *\n",
      "\n",
      "Machine precision = 2.220D-16\n",
      " N =         2049     M =           10\n",
      "\n",
      "At X0         0 variables are exactly at the bounds\n",
      "\n",
      "At iterate    0    f=  2.32895D+05    |proj g|=  3.61484D+04\n"
     ]
    },
    {
     "name": "stderr",
     "output_type": "stream",
     "text": [
      " This problem is unconstrained.\n"
     ]
    },
    {
     "name": "stdout",
     "output_type": "stream",
     "text": [
      "\n",
      "At iterate   50    f=  1.23730D+04    |proj g|=  5.28404D+01\n",
      "\n",
      "At iterate  100    f=  1.23489D+04    |proj g|=  9.13620D-01\n",
      "\n",
      "           * * *\n",
      "\n",
      "Tit   = total number of iterations\n",
      "Tnf   = total number of function evaluations\n",
      "Tnint = total number of segments explored during Cauchy searches\n",
      "Skip  = number of BFGS updates skipped\n",
      "Nact  = number of active bounds at final generalized Cauchy point\n",
      "Projg = norm of the final projected gradient\n",
      "F     = final function value\n",
      "\n",
      "           * * *\n",
      "\n",
      "   N    Tit     Tnf  Tnint  Skip  Nact     Projg        F\n",
      " 2049    100    106      1     0     0   9.136D-01   1.235D+04\n",
      "  F =   12348.922937288793     \n",
      "\n",
      "STOP: TOTAL NO. of ITERATIONS REACHED LIMIT                 \n"
     ]
    },
    {
     "name": "stderr",
     "output_type": "stream",
     "text": [
      "/home/yasin/anaconda3/lib/python3.9/site-packages/sklearn/linear_model/_logistic.py:814: ConvergenceWarning: lbfgs failed to converge (status=1):\n",
      "STOP: TOTAL NO. of ITERATIONS REACHED LIMIT.\n",
      "\n",
      "Increase the number of iterations (max_iter) or scale the data as shown in:\n",
      "    https://scikit-learn.org/stable/modules/preprocessing.html\n",
      "Please also refer to the documentation for alternative solver options:\n",
      "    https://scikit-learn.org/stable/modules/linear_model.html#logistic-regression\n",
      "  n_iter_i = _check_optimize_result(\n",
      "[Parallel(n_jobs=1)]: Done   1 out of   1 | elapsed:   47.7s finished\n"
     ]
    },
    {
     "name": "stdout",
     "output_type": "stream",
     "text": [
      "              precision    recall  f1-score   support\n",
      "\n",
      "         0.0       0.95      0.91      0.93     59979\n",
      "         1.0       0.91      0.96      0.93     59979\n",
      "\n",
      "    accuracy                           0.93    119958\n",
      "   macro avg       0.93      0.93      0.93    119958\n",
      "weighted avg       0.93      0.93      0.93    119958\n",
      "\n"
     ]
    },
    {
     "data": {
      "image/png": "[encoded data removed]",
      "text/plain": [
       "<Figure size 640x480 with 1 Axes>"
      ]
     },
     "metadata": {},
     "output_type": "display_data"
    }
   ],
   "source": [
    "clf_lr = make_pipeline(\n",
    "    StandardScaler(),\n",
    "    LogisticRegression(verbose=1)\n",
    ")\n",
    "clf_lr.fit(X_bt_train, y_bt_train)\n",
    "pred = clf_lr.predict(X_bt_test)\n",
    "plt.hist(pred)\n",
    "print(classification_report(y_bt_test, pred))"
   ]
  },
  {
   "attachments": {},
   "cell_type": "markdown",
   "metadata": {},
   "source": [
    "### Logistic Regression"
   ]
  },
  {
   "cell_type": "code",
   "execution_count": 8,
   "metadata": {},
   "outputs": [],
   "source": [
    "indices_sc = get_ds_indices(file_sc, samples_pd=2_000)\n",
    "indices_bt = get_ds_indices(file_bt, samples_pd=2_000)\n",
    "\n",
    "X_sc_train, X_sc_test, y_sc_train, y_sc_test = train_test_split(file_sc['embeddings'][indices_sc], file_sc['domains'][indices_sc])\n",
    "X_bt_train, X_bt_test, y_bt_train, y_bt_test = train_test_split(file_bt['embeddings'][indices_bt], file_bt['domains'][indices_bt])"
   ]
  },
  {
   "cell_type": "code",
   "execution_count": 9,
   "metadata": {},
   "outputs": [],
   "source": [
    "lor_b = make_pipeline(\n",
    "    StandardScaler(), \n",
    "    LogisticRegression(random_state=SEED, max_iter=10_000, verbose=1,\n",
    "                       multi_class=\"ovr\", )\n",
    ")"
   ]
  },
  {
   "cell_type": "code",
   "execution_count": 10,
   "metadata": {},
   "outputs": [
    {
     "name": "stderr",
     "output_type": "stream",
     "text": [
      "[Parallel(n_jobs=1)]: Using backend SequentialBackend with 1 concurrent workers.\n",
      " This problem is unconstrained.\n"
     ]
    },
    {
     "name": "stdout",
     "output_type": "stream",
     "text": [
      "RUNNING THE L-BFGS-B CODE\n",
      "\n",
      "           * * *\n",
      "\n",
      "Machine precision = 2.220D-16\n",
      " N =         2049     M =           10\n",
      "\n",
      "At X0         0 variables are exactly at the bounds\n",
      "\n",
      "At iterate    0    f=  5.19860D+03    |proj g|=  2.24700D+03\n",
      "\n",
      "At iterate   50    f=  2.67457D+03    |proj g|=  5.85374D+01\n",
      "\n",
      "At iterate  100    f=  2.32997D+03    |proj g|=  6.59608D+01\n",
      "\n",
      "At iterate  150    f=  2.20714D+03    |proj g|=  2.68255D+01\n",
      "\n",
      "At iterate  200    f=  2.14497D+03    |proj g|=  2.08587D+01\n",
      "\n",
      "At iterate  250    f=  2.11870D+03    |proj g|=  1.51815D+01\n",
      "\n",
      "At iterate  300    f=  2.10245D+03    |proj g|=  8.35083D+00\n",
      "\n",
      "At iterate  350    f=  2.09625D+03    |proj g|=  7.64848D+00\n",
      "\n",
      "At iterate  400    f=  2.09217D+03    |proj g|=  5.42945D+00\n",
      "\n",
      "At iterate  450    f=  2.08986D+03    |proj g|=  2.88240D+00\n",
      "\n",
      "At iterate  500    f=  2.08864D+03    |proj g|=  2.48377D+00\n",
      "\n",
      "At iterate  550    f=  2.08789D+03    |proj g|=  1.82765D+00\n",
      "\n",
      "At iterate  600    f=  2.08761D+03    |proj g|=  1.34555D+00\n",
      "\n",
      "At iterate  650    f=  2.08739D+03    |proj g|=  1.27750D+00\n",
      "\n",
      "At iterate  700    f=  2.08728D+03    |proj g|=  9.44102D-01\n",
      "\n",
      "At iterate  750    f=  2.08723D+03    |proj g|=  4.39482D-01\n",
      "\n",
      "At iterate  800    f=  2.08719D+03    |proj g|=  3.53450D-01\n",
      "\n",
      "At iterate  850    f=  2.08718D+03    |proj g|=  3.99119D-01\n",
      "\n",
      "At iterate  900    f=  2.08717D+03    |proj g|=  2.91084D-01\n",
      "\n",
      "At iterate  950    f=  2.08716D+03    |proj g|=  1.61055D-01\n",
      "\n",
      "At iterate 1000    f=  2.08716D+03    |proj g|=  1.27844D-01\n",
      "\n",
      "           * * *\n",
      "\n",
      "Tit   = total number of iterations\n",
      "Tnf   = total number of function evaluations\n",
      "Tnint = total number of segments explored during Cauchy searches\n",
      "Skip  = number of BFGS updates skipped\n",
      "Nact  = number of active bounds at final generalized Cauchy point\n",
      "Projg = norm of the final projected gradient\n",
      "F     = final function value\n",
      "\n",
      "           * * *\n",
      "\n",
      "   N    Tit     Tnf  Tnint  Skip  Nact     Projg        F\n",
      " 2049   1049   1193      1     0     0   1.234D-01   2.087D+03\n",
      "  F =   2087.1560931660583     \n",
      "\n",
      "CONVERGENCE: REL_REDUCTION_OF_F_<=_FACTR*EPSMCH             \n",
      "RUNNING THE L-BFGS-B CODE\n",
      "\n",
      "           * * *\n",
      "\n",
      "Machine precision = 2.220D-16\n",
      " N =         2049     M =           10\n",
      "\n",
      "At X0         0 variables are exactly at the bounds\n",
      "\n",
      "At iterate    0    f=  5.19860D+03    |proj g|=  2.21600D+03\n"
     ]
    },
    {
     "name": "stderr",
     "output_type": "stream",
     "text": [
      " This problem is unconstrained.\n"
     ]
    },
    {
     "name": "stdout",
     "output_type": "stream",
     "text": [
      "\n",
      "At iterate   50    f=  2.06814D+03    |proj g|=  6.55071D+01\n",
      "\n",
      "At iterate  100    f=  1.61307D+03    |proj g|=  4.12504D+01\n",
      "\n",
      "At iterate  150    f=  1.42855D+03    |proj g|=  2.80842D+01\n",
      "\n",
      "At iterate  200    f=  1.33345D+03    |proj g|=  1.26635D+01\n",
      "\n",
      "At iterate  250    f=  1.29078D+03    |proj g|=  1.23279D+01\n",
      "\n",
      "At iterate  300    f=  1.27076D+03    |proj g|=  8.60925D+00\n",
      "\n",
      "At iterate  350    f=  1.26094D+03    |proj g|=  5.94708D+00\n",
      "\n",
      "At iterate  400    f=  1.25476D+03    |proj g|=  5.32761D+00\n",
      "\n",
      "At iterate  450    f=  1.25163D+03    |proj g|=  3.75368D+00\n",
      "\n",
      "At iterate  500    f=  1.24978D+03    |proj g|=  1.92809D+00\n",
      "\n",
      "At iterate  550    f=  1.24881D+03    |proj g|=  1.95221D+00\n",
      "\n",
      "At iterate  600    f=  1.24831D+03    |proj g|=  1.33958D+00\n",
      "\n",
      "At iterate  650    f=  1.24802D+03    |proj g|=  1.13241D+00\n",
      "\n",
      "At iterate  700    f=  1.24787D+03    |proj g|=  6.19113D-01\n",
      "\n",
      "At iterate  750    f=  1.24780D+03    |proj g|=  6.32236D-01\n",
      "\n",
      "At iterate  800    f=  1.24775D+03    |proj g|=  3.71416D-01\n",
      "\n",
      "At iterate  850    f=  1.24772D+03    |proj g|=  3.78244D-01\n",
      "\n",
      "At iterate  900    f=  1.24771D+03    |proj g|=  1.69090D-01\n",
      "\n",
      "At iterate  950    f=  1.24771D+03    |proj g|=  1.43742D-01\n",
      "\n",
      "At iterate 1000    f=  1.24770D+03    |proj g|=  1.10895D-01\n",
      "\n",
      "At iterate 1050    f=  1.24770D+03    |proj g|=  8.42810D-02\n",
      "\n",
      "At iterate 1100    f=  1.24770D+03    |proj g|=  8.15712D-02\n",
      "\n",
      "           * * *\n",
      "\n",
      "Tit   = total number of iterations\n",
      "Tnf   = total number of function evaluations\n",
      "Tnint = total number of segments explored during Cauchy searches\n",
      "Skip  = number of BFGS updates skipped\n",
      "Nact  = number of active bounds at final generalized Cauchy point\n",
      "Projg = norm of the final projected gradient\n",
      "F     = final function value\n",
      "\n",
      "           * * *\n",
      "\n",
      "   N    Tit     Tnf  Tnint  Skip  Nact     Projg        F\n",
      " 2049   1126   1256      1     0     0   8.503D-02   1.248D+03\n",
      "  F =   1247.7014052005848     \n",
      "\n",
      "CONVERGENCE: REL_REDUCTION_OF_F_<=_FACTR*EPSMCH             \n",
      "RUNNING THE L-BFGS-B CODE\n",
      "\n",
      "           * * *\n",
      "\n",
      "Machine precision = 2.220D-16\n",
      " N =         2049     M =           10\n",
      "\n",
      "At X0         0 variables are exactly at the bounds\n",
      "\n",
      "At iterate    0    f=  5.19860D+03    |proj g|=  2.29000D+03\n"
     ]
    },
    {
     "name": "stderr",
     "output_type": "stream",
     "text": [
      " This problem is unconstrained.\n"
     ]
    },
    {
     "name": "stdout",
     "output_type": "stream",
     "text": [
      "\n",
      "At iterate   50    f=  2.34262D+03    |proj g|=  7.35735D+01\n",
      "\n",
      "At iterate  100    f=  1.87023D+03    |proj g|=  4.41650D+01\n",
      "\n",
      "At iterate  150    f=  1.66460D+03    |proj g|=  2.23827D+01\n",
      "\n",
      "At iterate  200    f=  1.58724D+03    |proj g|=  1.60275D+01\n",
      "\n",
      "At iterate  250    f=  1.53918D+03    |proj g|=  1.66092D+01\n",
      "\n",
      "At iterate  300    f=  1.51548D+03    |proj g|=  9.72347D+00\n",
      "\n",
      "At iterate  350    f=  1.50315D+03    |proj g|=  8.08923D+00\n",
      "\n",
      "At iterate  400    f=  1.49629D+03    |proj g|=  8.09768D+00\n",
      "\n",
      "At iterate  450    f=  1.49341D+03    |proj g|=  2.99472D+00\n",
      "\n",
      "At iterate  500    f=  1.49210D+03    |proj g|=  2.38508D+00\n",
      "\n",
      "At iterate  550    f=  1.49118D+03    |proj g|=  2.10243D+00\n",
      "\n",
      "At iterate  600    f=  1.49066D+03    |proj g|=  2.39013D+00\n",
      "\n",
      "At iterate  650    f=  1.49027D+03    |proj g|=  1.24589D+00\n",
      "\n",
      "At iterate  700    f=  1.49008D+03    |proj g|=  9.54925D-01\n",
      "\n",
      "At iterate  750    f=  1.48997D+03    |proj g|=  9.09892D-01\n",
      "\n",
      "At iterate  800    f=  1.48992D+03    |proj g|=  6.38542D-01\n",
      "\n",
      "At iterate  850    f=  1.48989D+03    |proj g|=  1.98157D-01\n",
      "\n",
      "At iterate  900    f=  1.48987D+03    |proj g|=  2.56703D-01\n",
      "\n",
      "At iterate  950    f=  1.48986D+03    |proj g|=  2.54352D-01\n",
      "\n",
      "At iterate 1000    f=  1.48985D+03    |proj g|=  1.65213D-01\n",
      "\n",
      "At iterate 1050    f=  1.48985D+03    |proj g|=  1.80731D-01\n",
      "\n",
      "At iterate 1100    f=  1.48984D+03    |proj g|=  8.07703D-02\n",
      "\n",
      "At iterate 1150    f=  1.48984D+03    |proj g|=  4.86235D-02\n",
      "\n",
      "           * * *\n",
      "\n",
      "Tit   = total number of iterations\n",
      "Tnf   = total number of function evaluations\n",
      "Tnint = total number of segments explored during Cauchy searches\n",
      "Skip  = number of BFGS updates skipped\n",
      "Nact  = number of active bounds at final generalized Cauchy point\n",
      "Projg = norm of the final projected gradient\n",
      "F     = final function value\n",
      "\n",
      "           * * *\n",
      "\n",
      "   N    Tit     Tnf  Tnint  Skip  Nact     Projg        F\n",
      " 2049   1157   1305      1     0     0   6.293D-02   1.490D+03\n",
      "  F =   1489.8427193176174     \n",
      "\n",
      "CONVERGENCE: REL_REDUCTION_OF_F_<=_FACTR*EPSMCH             \n",
      "RUNNING THE L-BFGS-B CODE\n",
      "\n",
      "           * * *\n",
      "\n",
      "Machine precision = 2.220D-16\n",
      " N =         2049     M =           10\n",
      "\n",
      "At X0         0 variables are exactly at the bounds\n",
      "\n",
      "At iterate    0    f=  5.19860D+03    |proj g|=  2.23800D+03\n"
     ]
    },
    {
     "name": "stderr",
     "output_type": "stream",
     "text": [
      " This problem is unconstrained.\n"
     ]
    },
    {
     "name": "stdout",
     "output_type": "stream",
     "text": [
      "\n",
      "At iterate   50    f=  2.24058D+03    |proj g|=  5.14695D+01\n",
      "\n",
      "At iterate  100    f=  1.88990D+03    |proj g|=  5.19583D+01\n",
      "\n",
      "At iterate  150    f=  1.75020D+03    |proj g|=  2.12133D+01\n",
      "\n",
      "At iterate  200    f=  1.69286D+03    |proj g|=  1.72382D+01\n",
      "\n",
      "At iterate  250    f=  1.66140D+03    |proj g|=  1.04986D+01\n",
      "\n",
      "At iterate  300    f=  1.64389D+03    |proj g|=  8.88715D+00\n",
      "\n",
      "At iterate  350    f=  1.63493D+03    |proj g|=  7.63322D+00\n",
      "\n",
      "At iterate  400    f=  1.62955D+03    |proj g|=  4.49384D+00\n",
      "\n",
      "At iterate  450    f=  1.62745D+03    |proj g|=  5.05543D+00\n",
      "\n",
      "At iterate  500    f=  1.62628D+03    |proj g|=  2.04854D+00\n",
      "\n",
      "At iterate  550    f=  1.62538D+03    |proj g|=  2.14841D+00\n",
      "\n",
      "At iterate  600    f=  1.62493D+03    |proj g|=  1.65830D+00\n",
      "\n",
      "At iterate  650    f=  1.62470D+03    |proj g|=  1.05414D+00\n",
      "\n",
      "At iterate  700    f=  1.62461D+03    |proj g|=  8.02741D-01\n",
      "\n",
      "At iterate  750    f=  1.62454D+03    |proj g|=  4.87449D-01\n",
      "\n",
      "At iterate  800    f=  1.62450D+03    |proj g|=  4.28562D-01\n",
      "\n",
      "At iterate  850    f=  1.62447D+03    |proj g|=  4.35880D-01\n",
      "\n",
      "At iterate  900    f=  1.62446D+03    |proj g|=  2.74911D-01\n",
      "\n",
      "At iterate  950    f=  1.62445D+03    |proj g|=  2.06487D-01\n",
      "\n",
      "At iterate 1000    f=  1.62445D+03    |proj g|=  1.30523D-01\n",
      "\n",
      "At iterate 1050    f=  1.62445D+03    |proj g|=  1.27871D-01\n",
      "\n",
      "At iterate 1100    f=  1.62445D+03    |proj g|=  1.27539D-01\n",
      "\n",
      "           * * *\n",
      "\n",
      "Tit   = total number of iterations\n",
      "Tnf   = total number of function evaluations\n",
      "Tnint = total number of segments explored during Cauchy searches\n",
      "Skip  = number of BFGS updates skipped\n",
      "Nact  = number of active bounds at final generalized Cauchy point\n",
      "Projg = norm of the final projected gradient\n",
      "F     = final function value\n",
      "\n",
      "           * * *\n",
      "\n",
      "   N    Tit     Tnf  Tnint  Skip  Nact     Projg        F\n",
      " 2049   1101   1235      1     0     0   1.306D-01   1.624D+03\n",
      "  F =   1624.4493845093725     \n",
      "\n",
      "CONVERGENCE: REL_REDUCTION_OF_F_<=_FACTR*EPSMCH             \n",
      "RUNNING THE L-BFGS-B CODE\n",
      "\n",
      "           * * *\n",
      "\n",
      "Machine precision = 2.220D-16\n",
      " N =         2049     M =           10\n",
      "\n",
      "At X0         0 variables are exactly at the bounds\n",
      "\n",
      "At iterate    0    f=  5.19860D+03    |proj g|=  2.25900D+03\n"
     ]
    },
    {
     "name": "stderr",
     "output_type": "stream",
     "text": [
      " This problem is unconstrained.\n"
     ]
    },
    {
     "name": "stdout",
     "output_type": "stream",
     "text": [
      "\n",
      "At iterate   50    f=  1.57866D+03    |proj g|=  7.73917D+01\n",
      "\n",
      "At iterate  100    f=  1.14286D+03    |proj g|=  4.02428D+01\n",
      "\n",
      "At iterate  150    f=  9.62495D+02    |proj g|=  1.55646D+01\n",
      "\n",
      "At iterate  200    f=  8.92927D+02    |proj g|=  1.54604D+01\n",
      "\n",
      "At iterate  250    f=  8.68896D+02    |proj g|=  7.24804D+00\n",
      "\n",
      "At iterate  300    f=  8.55600D+02    |proj g|=  5.08365D+00\n",
      "\n",
      "At iterate  350    f=  8.50487D+02    |proj g|=  3.44826D+00\n",
      "\n",
      "At iterate  400    f=  8.47591D+02    |proj g|=  2.54843D+00\n",
      "\n",
      "At iterate  450    f=  8.45642D+02    |proj g|=  1.42337D+00\n",
      "\n",
      "At iterate  500    f=  8.44833D+02    |proj g|=  1.40919D+00\n",
      "\n",
      "At iterate  550    f=  8.44418D+02    |proj g|=  8.52141D-01\n",
      "\n",
      "At iterate  600    f=  8.44210D+02    |proj g|=  7.52594D-01\n",
      "\n",
      "At iterate  650    f=  8.44099D+02    |proj g|=  5.07711D-01\n",
      "\n",
      "At iterate  700    f=  8.44042D+02    |proj g|=  2.84958D-01\n",
      "\n",
      "At iterate  750    f=  8.44010D+02    |proj g|=  7.63068D-01\n",
      "\n",
      "At iterate  800    f=  8.43989D+02    |proj g|=  1.51887D-01\n",
      "\n",
      "At iterate  850    f=  8.43982D+02    |proj g|=  1.68442D-01\n",
      "\n",
      "At iterate  900    f=  8.43980D+02    |proj g|=  1.26570D-01\n",
      "\n",
      "At iterate  950    f=  8.43977D+02    |proj g|=  1.09991D-01\n",
      "\n",
      "At iterate 1000    f=  8.43975D+02    |proj g|=  7.94043D-02\n",
      "\n",
      "At iterate 1050    f=  8.43974D+02    |proj g|=  6.36084D-02\n",
      "\n",
      "At iterate 1100    f=  8.43974D+02    |proj g|=  3.53917D-02\n",
      "\n",
      "           * * *\n",
      "\n",
      "Tit   = total number of iterations\n",
      "Tnf   = total number of function evaluations\n",
      "Tnint = total number of segments explored during Cauchy searches\n",
      "Skip  = number of BFGS updates skipped\n",
      "Nact  = number of active bounds at final generalized Cauchy point\n",
      "Projg = norm of the final projected gradient\n",
      "F     = final function value\n",
      "\n",
      "           * * *\n",
      "\n",
      "   N    Tit     Tnf  Tnint  Skip  Nact     Projg        F\n",
      " 2049   1142   1260      1     0     0   2.790D-02   8.440D+02\n",
      "  F =   843.97356807635401     \n",
      "\n",
      "CONVERGENCE: REL_REDUCTION_OF_F_<=_FACTR*EPSMCH             \n",
      "              precision    recall  f1-score   support\n",
      "\n",
      "         0.0       0.33      0.33      0.33       497\n",
      "         1.0       0.45      0.50      0.48       466\n",
      "         2.0       0.45      0.37      0.41       540\n",
      "         3.0       0.41      0.44      0.43       488\n",
      "         4.0       0.59      0.59      0.59       509\n",
      "\n",
      "    accuracy                           0.45      2500\n",
      "   macro avg       0.45      0.45      0.45      2500\n",
      "weighted avg       0.45      0.45      0.45      2500\n",
      "\n"
     ]
    },
    {
     "name": "stderr",
     "output_type": "stream",
     "text": [
      "[Parallel(n_jobs=1)]: Done   5 out of   5 | elapsed:  1.2min finished\n"
     ]
    }
   ],
   "source": [
    "lor_b.fit(X_sc_train, y_sc_train)\n",
    "print(classification_report(y_sc_test, lor_b.predict(X_sc_test)))"
   ]
  },
  {
   "cell_type": "code",
   "execution_count": 11,
   "metadata": {},
   "outputs": [
    {
     "name": "stderr",
     "output_type": "stream",
     "text": [
      "[Parallel(n_jobs=1)]: Using backend SequentialBackend with 1 concurrent workers.\n",
      " This problem is unconstrained.\n"
     ]
    },
    {
     "name": "stdout",
     "output_type": "stream",
     "text": [
      "RUNNING THE L-BFGS-B CODE\n",
      "\n",
      "           * * *\n",
      "\n",
      "Machine precision = 2.220D-16\n",
      " N =         2049     M =           10\n",
      "\n",
      "At X0         0 variables are exactly at the bounds\n",
      "\n",
      "At iterate    0    f=  5.19860D+03    |proj g|=  2.26100D+03\n",
      "\n",
      "At iterate   50    f=  1.61455D+03    |proj g|=  8.98808D+00\n",
      "\n",
      "At iterate  100    f=  1.57900D+03    |proj g|=  1.47896D+00\n",
      "\n",
      "At iterate  150    f=  1.57790D+03    |proj g|=  8.49683D-01\n",
      "\n",
      "At iterate  200    f=  1.57784D+03    |proj g|=  9.65461D-02\n",
      "\n",
      "At iterate  250    f=  1.57784D+03    |proj g|=  2.46806D-02\n",
      "\n",
      "           * * *\n",
      "\n",
      "Tit   = total number of iterations\n",
      "Tnf   = total number of function evaluations\n",
      "Tnint = total number of segments explored during Cauchy searches\n",
      "Skip  = number of BFGS updates skipped\n",
      "Nact  = number of active bounds at final generalized Cauchy point\n",
      "Projg = norm of the final projected gradient\n",
      "F     = final function value\n",
      "\n",
      "           * * *\n",
      "\n",
      "   N    Tit     Tnf  Tnint  Skip  Nact     Projg        F\n",
      " 2049    261    277      1     0     0   4.510D-02   1.578D+03\n",
      "  F =   1577.8381891322915     \n",
      "\n",
      "CONVERGENCE: REL_REDUCTION_OF_F_<=_FACTR*EPSMCH             \n",
      "RUNNING THE L-BFGS-B CODE\n",
      "\n",
      "           * * *\n",
      "\n",
      "Machine precision = 2.220D-16\n",
      " N =         2049     M =           10\n",
      "\n",
      "At X0         0 variables are exactly at the bounds\n",
      "\n",
      "At iterate    0    f=  5.19860D+03    |proj g|=  2.24400D+03\n"
     ]
    },
    {
     "name": "stderr",
     "output_type": "stream",
     "text": [
      " This problem is unconstrained.\n"
     ]
    },
    {
     "name": "stdout",
     "output_type": "stream",
     "text": [
      "\n",
      "At iterate   50    f=  1.41631D+03    |proj g|=  9.83600D+00\n",
      "\n",
      "At iterate  100    f=  1.37034D+03    |proj g|=  1.86091D+00\n",
      "\n",
      "At iterate  150    f=  1.36856D+03    |proj g|=  1.03985D+00\n",
      "\n",
      "At iterate  200    f=  1.36844D+03    |proj g|=  1.14218D-01\n",
      "\n",
      "At iterate  250    f=  1.36843D+03    |proj g|=  5.37747D-02\n",
      "\n",
      "           * * *\n",
      "\n",
      "Tit   = total number of iterations\n",
      "Tnf   = total number of function evaluations\n",
      "Tnint = total number of segments explored during Cauchy searches\n",
      "Skip  = number of BFGS updates skipped\n",
      "Nact  = number of active bounds at final generalized Cauchy point\n",
      "Projg = norm of the final projected gradient\n",
      "F     = final function value\n",
      "\n",
      "           * * *\n",
      "\n",
      "   N    Tit     Tnf  Tnint  Skip  Nact     Projg        F\n",
      " 2049    296    312      1     0     0   3.037D-02   1.368D+03\n",
      "  F =   1368.4311500976412     \n",
      "\n",
      "CONVERGENCE: REL_REDUCTION_OF_F_<=_FACTR*EPSMCH             \n",
      "RUNNING THE L-BFGS-B CODE\n",
      "\n",
      "           * * *\n",
      "\n",
      "Machine precision = 2.220D-16\n",
      " N =         2049     M =           10\n",
      "\n",
      "At X0         0 variables are exactly at the bounds\n",
      "\n",
      "At iterate    0    f=  5.19860D+03    |proj g|=  2.29300D+03\n"
     ]
    },
    {
     "name": "stderr",
     "output_type": "stream",
     "text": [
      " This problem is unconstrained.\n"
     ]
    },
    {
     "name": "stdout",
     "output_type": "stream",
     "text": [
      "\n",
      "At iterate   50    f=  1.14788D+03    |proj g|=  1.46106D+01\n",
      "\n",
      "At iterate  100    f=  1.08686D+03    |proj g|=  2.33754D+00\n",
      "\n",
      "At iterate  150    f=  1.08324D+03    |proj g|=  7.72223D-01\n",
      "\n",
      "At iterate  200    f=  1.08291D+03    |proj g|=  3.07658D-01\n",
      "\n",
      "At iterate  250    f=  1.08288D+03    |proj g|=  1.12166D-01\n",
      "\n",
      "At iterate  300    f=  1.08287D+03    |proj g|=  3.35158D-02\n",
      "\n",
      "At iterate  350    f=  1.08287D+03    |proj g|=  1.18211D-02\n",
      "\n",
      "           * * *\n",
      "\n",
      "Tit   = total number of iterations\n",
      "Tnf   = total number of function evaluations\n",
      "Tnint = total number of segments explored during Cauchy searches\n",
      "Skip  = number of BFGS updates skipped\n",
      "Nact  = number of active bounds at final generalized Cauchy point\n",
      "Projg = norm of the final projected gradient\n",
      "F     = final function value\n",
      "\n",
      "           * * *\n",
      "\n",
      "   N    Tit     Tnf  Tnint  Skip  Nact     Projg        F\n",
      " 2049    356    376      1     0     0   6.423D-03   1.083D+03\n",
      "  F =   1082.8705992716575     \n",
      "\n",
      "CONVERGENCE: REL_REDUCTION_OF_F_<=_FACTR*EPSMCH             \n",
      "RUNNING THE L-BFGS-B CODE\n",
      "\n",
      "           * * *\n",
      "\n",
      "Machine precision = 2.220D-16\n",
      " N =         2049     M =           10\n",
      "\n",
      "At X0         0 variables are exactly at the bounds\n",
      "\n",
      "At iterate    0    f=  5.19860D+03    |proj g|=  2.24300D+03\n"
     ]
    },
    {
     "name": "stderr",
     "output_type": "stream",
     "text": [
      " This problem is unconstrained.\n"
     ]
    },
    {
     "name": "stdout",
     "output_type": "stream",
     "text": [
      "\n",
      "At iterate   50    f=  1.39316D+03    |proj g|=  1.63644D+01\n",
      "\n",
      "At iterate  100    f=  1.33703D+03    |proj g|=  2.52296D+00\n",
      "\n",
      "At iterate  150    f=  1.33391D+03    |proj g|=  7.06838D-01\n",
      "\n",
      "At iterate  200    f=  1.33371D+03    |proj g|=  1.65422D-01\n",
      "\n",
      "At iterate  250    f=  1.33369D+03    |proj g|=  4.63245D-02\n",
      "\n",
      "At iterate  300    f=  1.33369D+03    |proj g|=  1.64919D-02\n",
      "\n",
      "           * * *\n",
      "\n",
      "Tit   = total number of iterations\n",
      "Tnf   = total number of function evaluations\n",
      "Tnint = total number of segments explored during Cauchy searches\n",
      "Skip  = number of BFGS updates skipped\n",
      "Nact  = number of active bounds at final generalized Cauchy point\n",
      "Projg = norm of the final projected gradient\n",
      "F     = final function value\n",
      "\n",
      "           * * *\n",
      "\n",
      "   N    Tit     Tnf  Tnint  Skip  Nact     Projg        F\n",
      " 2049    305    324      1     0     0   4.654D-02   1.334D+03\n",
      "  F =   1333.6932077806746     \n",
      "\n",
      "CONVERGENCE: REL_REDUCTION_OF_F_<=_FACTR*EPSMCH             \n",
      "RUNNING THE L-BFGS-B CODE\n",
      "\n",
      "           * * *\n",
      "\n",
      "Machine precision = 2.220D-16\n",
      " N =         2049     M =           10\n",
      "\n",
      "At X0         0 variables are exactly at the bounds\n",
      "\n",
      "At iterate    0    f=  5.19860D+03    |proj g|=  2.20900D+03\n"
     ]
    },
    {
     "name": "stderr",
     "output_type": "stream",
     "text": [
      " This problem is unconstrained.\n"
     ]
    },
    {
     "name": "stdout",
     "output_type": "stream",
     "text": [
      "\n",
      "At iterate   50    f=  1.31151D+03    |proj g|=  1.06669D+01\n",
      "\n",
      "At iterate  100    f=  1.25319D+03    |proj g|=  2.82914D+00\n",
      "\n",
      "At iterate  150    f=  1.24972D+03    |proj g|=  1.70907D+00\n",
      "\n",
      "At iterate  200    f=  1.24953D+03    |proj g|=  2.43597D-01\n",
      "\n",
      "At iterate  250    f=  1.24952D+03    |proj g|=  4.33420D-02\n",
      "\n",
      "At iterate  300    f=  1.24952D+03    |proj g|=  1.10247D-02\n",
      "\n",
      "           * * *\n",
      "\n",
      "Tit   = total number of iterations\n",
      "Tnf   = total number of function evaluations\n",
      "Tnint = total number of segments explored during Cauchy searches\n",
      "Skip  = number of BFGS updates skipped\n",
      "Nact  = number of active bounds at final generalized Cauchy point\n",
      "Projg = norm of the final projected gradient\n",
      "F     = final function value\n",
      "\n",
      "           * * *\n",
      "\n",
      "   N    Tit     Tnf  Tnint  Skip  Nact     Projg        F\n",
      " 2049    304    326      1     0     0   8.283D-03   1.250D+03\n",
      "  F =   1249.5216493050266     \n",
      "\n",
      "CONVERGENCE: REL_REDUCTION_OF_F_<=_FACTR*EPSMCH             \n",
      "              precision    recall  f1-score   support\n",
      "\n",
      "         0.0       0.34      0.35      0.34       511\n",
      "         1.0       0.41      0.42      0.42       494\n",
      "         2.0       0.46      0.45      0.46       543\n",
      "         3.0       0.35      0.33      0.34       493\n",
      "         4.0       0.42      0.42      0.42       459\n",
      "\n",
      "    accuracy                           0.39      2500\n",
      "   macro avg       0.39      0.39      0.39      2500\n",
      "weighted avg       0.39      0.39      0.39      2500\n",
      "\n"
     ]
    },
    {
     "name": "stderr",
     "output_type": "stream",
     "text": [
      "[Parallel(n_jobs=1)]: Done   5 out of   5 | elapsed:   19.1s finished\n"
     ]
    }
   ],
   "source": [
    "lor_b.fit(X_bt_train, y_bt_train)\n",
    "print(classification_report(y_bt_test, lor_b.predict(X_bt_test)))"
   ]
  },
  {
   "cell_type": "markdown",
   "metadata": {},
   "source": [
    "### UMAP"
   ]
  },
  {
   "cell_type": "code",
   "execution_count": 14,
   "metadata": {},
   "outputs": [],
   "source": [
    "import umap"
   ]
  },
  {
   "cell_type": "code",
   "execution_count": 15,
   "metadata": {},
   "outputs": [],
   "source": [
    "reducer = umap.UMAP(n_neighbors=100, n_epochs=1_000, verbose=True)"
   ]
  },
  {
   "cell_type": "code",
   "execution_count": 16,
   "metadata": {},
   "outputs": [],
   "source": [
    "X_scaled = StandardScaler().fit_transform(X_sc_train)"
   ]
  },
  {
   "cell_type": "code",
   "execution_count": 17,
   "metadata": {},
   "outputs": [
    {
     "name": "stdout",
     "output_type": "stream",
     "text": [
      "UMAP(n_epochs=1000, n_neighbors=100, verbose=True)\n",
      "Wed Nov 29 10:32:33 2023 Construct fuzzy simplicial set\n",
      "Wed Nov 29 10:32:33 2023 Finding Nearest Neighbors\n",
      "Wed Nov 29 10:32:33 2023 Building RP forest with 9 trees\n",
      "Wed Nov 29 10:32:35 2023 NN descent for 13 iterations\n",
      "\t 1  /  13\n",
      "\t 2  /  13\n",
      "\t 3  /  13\n",
      "\tStopping threshold met -- exiting after 3 iterations\n",
      "Wed Nov 29 10:32:44 2023 Finished Nearest Neighbor Search\n",
      "Wed Nov 29 10:32:46 2023 Construct embedding\n"
     ]
    },
    {
     "data": {
      "application/vnd.jupyter.widget-view+json": {
       "model_id": "bfebc3253cad485db0e2e74ae6da6f1e",
       "version_major": 2,
       "version_minor": 0
      },
      "text/plain": [
       "Epochs completed:   0%|            0/1000 [00:00]"
      ]
     },
     "metadata": {},
     "output_type": "display_data"
    },
    {
     "name": "stdout",
     "output_type": "stream",
     "text": [
      "\tcompleted  0  /  1000 epochs\n",
      "\tcompleted  100  /  1000 epochs\n",
      "\tcompleted  200  /  1000 epochs\n",
      "\tcompleted  300  /  1000 epochs\n",
      "\tcompleted  400  /  1000 epochs\n",
      "\tcompleted  500  /  1000 epochs\n",
      "\tcompleted  600  /  1000 epochs\n",
      "\tcompleted  700  /  1000 epochs\n",
      "\tcompleted  800  /  1000 epochs\n",
      "\tcompleted  900  /  1000 epochs\n",
      "Wed Nov 29 10:33:08 2023 Finished embedding\n"
     ]
    }
   ],
   "source": [
    "X_reduced = reducer.fit_transform(X_scaled)"
   ]
  },
  {
   "cell_type": "code",
   "execution_count": 18,
   "metadata": {},
   "outputs": [
    {
     "data": {
      "text/plain": [
       "(7500, 2)"
      ]
     },
     "execution_count": 18,
     "metadata": {},
     "output_type": "execute_result"
    }
   ],
   "source": [
    "X_reduced.shape"
   ]
  },
  {
   "cell_type": "code",
   "execution_count": 22,
   "metadata": {},
   "outputs": [
    {
     "data": {
      "image/png": "[encoded data removed]",
      "text/plain": [
       "<Figure size 640x480 with 1 Axes>"
      ]
     },
     "metadata": {},
     "output_type": "display_data"
    }
   ],
   "source": [
    "plt.scatter(\n",
    "    X_reduced[:, 0],\n",
    "    X_reduced[:, 1],\n",
    "    c=y_sc_train)\n",
    "plt.gca().set_aspect('equal', 'datalim')"
   ]
  },
  {
   "attachments": {},
   "cell_type": "markdown",
   "metadata": {},
   "source": [
    "### T-SNE"
   ]
  },
  {
   "cell_type": "code",
   "execution_count": 23,
   "metadata": {},
   "outputs": [],
   "source": [
    "from sklearn.decomposition import PCA"
   ]
  },
  {
   "cell_type": "code",
   "execution_count": 24,
   "metadata": {},
   "outputs": [
    {
     "data": {
      "text/plain": [
       "(7500, 100)"
      ]
     },
     "execution_count": 24,
     "metadata": {},
     "output_type": "execute_result"
    }
   ],
   "source": [
    "# PCA\n",
    "pca = PCA(n_components=100)\n",
    "X_pca = pca.fit_transform(X_sc_train)\n",
    "X_pca.shape"
   ]
  },
  {
   "cell_type": "code",
   "execution_count": 25,
   "metadata": {},
   "outputs": [],
   "source": [
    "from sklearn.manifold import TSNE\n",
    "from matplotlib import ticker"
   ]
  },
  {
   "cell_type": "code",
   "execution_count": 26,
   "metadata": {},
   "outputs": [],
   "source": [
    "def add_2d_scatter(ax, points, points_color, title=None):\n",
    "    x, y = points.T\n",
    "    ax.scatter(x, y, c=points_color, s=50, alpha=0.8)\n",
    "    ax.set_title(title)\n",
    "    ax.xaxis.set_major_formatter(ticker.NullFormatter())\n",
    "    ax.yaxis.set_major_formatter(ticker.NullFormatter())\n",
    "    \n",
    "def plot_2d(points, points_color, title):\n",
    "    fig, ax = plt.subplots(figsize=(3, 3), facecolor=\"white\", constrained_layout=True)\n",
    "    fig.suptitle(title, size=16)\n",
    "    add_2d_scatter(ax, points, points_color)\n",
    "    plt.show()"
   ]
  },
  {
   "cell_type": "code",
   "execution_count": 28,
   "metadata": {},
   "outputs": [
    {
     "data": {
      "image/png": "[encoded data removed]",
      "text/plain": [
       "<Figure size 300x300 with 1 Axes>"
      ]
     },
     "metadata": {},
     "output_type": "display_data"
    }
   ],
   "source": [
    "t_sne = TSNE(\n",
    "    n_components=2,\n",
    "    perplexity=200,\n",
    "    init=\"random\",\n",
    "    n_iter=1_000,\n",
    "    random_state=0,\n",
    "    learning_rate='auto',\n",
    "    metric=\"euclidean\"\n",
    ")\n",
    "S_t_sne = t_sne.fit_transform(X_pca)\n",
    "\n",
    "plot_2d(S_t_sne, y_sc_train, \"T-SNE\")"
   ]
  },
  {
   "attachments": {},
   "cell_type": "markdown",
   "metadata": {},
   "source": [
    "### Logistic Regression (CV)"
   ]
  },
  {
   "cell_type": "code",
   "execution_count": 30,
   "metadata": {},
   "outputs": [],
   "source": [
    "from sklearn.model_selection import cross_val_score"
   ]
  },
  {
   "cell_type": "code",
   "execution_count": 31,
   "metadata": {},
   "outputs": [],
   "source": [
    "lr = make_pipeline(\n",
    "    StandardScaler(), \n",
    "    LogisticRegression(random_state=SEED, max_iter=10_000, verbose=1)\n",
    ")"
   ]
  },
  {
   "cell_type": "code",
   "execution_count": 32,
   "metadata": {},
   "outputs": [
    {
     "name": "stderr",
     "output_type": "stream",
     "text": [
      "[Parallel(n_jobs=1)]: Using backend SequentialBackend with 1 concurrent workers.\n",
      " This problem is unconstrained.\n"
     ]
    },
    {
     "name": "stdout",
     "output_type": "stream",
     "text": [
      "RUNNING THE L-BFGS-B CODE\n",
      "\n",
      "           * * *\n",
      "\n",
      "Machine precision = 2.220D-16\n",
      " N =        10245     M =           10\n",
      "\n",
      "At X0         0 variables are exactly at the bounds\n",
      "\n",
      "At iterate    0    f=  8.04719D+03    |proj g|=  1.52029D+02\n",
      "\n",
      "At iterate   50    f=  5.55292D+03    |proj g|=  1.04461D+02\n",
      "\n",
      "At iterate  100    f=  4.16479D+03    |proj g|=  7.81560D+01\n",
      "\n",
      "At iterate  150    f=  3.18406D+03    |proj g|=  6.64230D+01\n",
      "\n",
      "At iterate  200    f=  2.62686D+03    |proj g|=  3.65951D+01\n",
      "\n",
      "At iterate  250    f=  2.22562D+03    |proj g|=  4.23513D+01\n",
      "\n",
      "At iterate  300    f=  1.99775D+03    |proj g|=  3.81349D+01\n",
      "\n",
      "At iterate  350    f=  1.83799D+03    |proj g|=  2.81700D+01\n",
      "\n",
      "At iterate  400    f=  1.72417D+03    |proj g|=  2.61593D+01\n",
      "\n",
      "At iterate  450    f=  1.65682D+03    |proj g|=  1.65780D+01\n",
      "\n",
      "At iterate  500    f=  1.61181D+03    |proj g|=  1.31808D+01\n",
      "\n",
      "At iterate  550    f=  1.57816D+03    |proj g|=  9.68675D+00\n",
      "\n",
      "At iterate  600    f=  1.55963D+03    |proj g|=  6.38211D+00\n",
      "\n",
      "At iterate  650    f=  1.54727D+03    |proj g|=  9.38332D+00\n",
      "\n",
      "At iterate  700    f=  1.53900D+03    |proj g|=  6.48355D+00\n",
      "\n",
      "At iterate  750    f=  1.53351D+03    |proj g|=  3.97869D+00\n",
      "\n",
      "At iterate  800    f=  1.52975D+03    |proj g|=  2.71929D+00\n",
      "\n",
      "At iterate  850    f=  1.52660D+03    |proj g|=  3.36374D+00\n",
      "\n",
      "At iterate  900    f=  1.52396D+03    |proj g|=  3.82538D+00\n",
      "\n",
      "At iterate  950    f=  1.52214D+03    |proj g|=  1.98656D+00\n",
      "\n",
      "At iterate 1000    f=  1.52085D+03    |proj g|=  1.79724D+00\n",
      "\n",
      "At iterate 1050    f=  1.51976D+03    |proj g|=  2.06975D+00\n",
      "\n",
      "At iterate 1100    f=  1.51898D+03    |proj g|=  1.10527D+00\n",
      "\n",
      "At iterate 1150    f=  1.51841D+03    |proj g|=  1.19886D+00\n",
      "\n",
      "At iterate 1200    f=  1.51812D+03    |proj g|=  8.11700D-01\n",
      "\n",
      "At iterate 1250    f=  1.51794D+03    |proj g|=  6.96524D-01\n",
      "\n",
      "At iterate 1300    f=  1.51769D+03    |proj g|=  1.15537D+00\n",
      "\n",
      "At iterate 1350    f=  1.51748D+03    |proj g|=  1.25975D+00\n",
      "\n",
      "At iterate 1400    f=  1.51735D+03    |proj g|=  5.29531D-01\n",
      "\n",
      "At iterate 1450    f=  1.51725D+03    |proj g|=  5.15657D-01\n",
      "\n",
      "At iterate 1500    f=  1.51718D+03    |proj g|=  4.73256D-01\n",
      "\n",
      "At iterate 1550    f=  1.51715D+03    |proj g|=  4.09176D-01\n",
      "\n",
      "At iterate 1600    f=  1.51711D+03    |proj g|=  2.33618D-01\n",
      "\n",
      "At iterate 1650    f=  1.51710D+03    |proj g|=  2.81972D-01\n",
      "\n",
      "At iterate 1700    f=  1.51708D+03    |proj g|=  2.69045D-01\n",
      "\n",
      "At iterate 1750    f=  1.51706D+03    |proj g|=  3.70772D-01\n",
      "\n",
      "At iterate 1800    f=  1.51705D+03    |proj g|=  1.97025D-01\n",
      "\n",
      "At iterate 1850    f=  1.51704D+03    |proj g|=  1.45082D-01\n",
      "\n",
      "At iterate 1900    f=  1.51703D+03    |proj g|=  1.49280D-01\n",
      "\n",
      "At iterate 1950    f=  1.51703D+03    |proj g|=  1.17645D-01\n",
      "\n",
      "At iterate 2000    f=  1.51702D+03    |proj g|=  9.10270D-02\n",
      "\n",
      "At iterate 2050    f=  1.51702D+03    |proj g|=  6.13957D-02\n",
      "\n",
      "At iterate 2100    f=  1.51702D+03    |proj g|=  4.88269D-02\n",
      "\n",
      "At iterate 2150    f=  1.51702D+03    |proj g|=  5.63213D-02\n",
      "\n",
      "At iterate 2200    f=  1.51702D+03    |proj g|=  3.79193D-02\n",
      "\n",
      "           * * *\n",
      "\n",
      "Tit   = total number of iterations\n",
      "Tnf   = total number of function evaluations\n",
      "Tnint = total number of segments explored during Cauchy searches\n",
      "Skip  = number of BFGS updates skipped\n",
      "Nact  = number of active bounds at final generalized Cauchy point\n",
      "Projg = norm of the final projected gradient\n",
      "F     = final function value\n",
      "\n",
      "           * * *\n",
      "\n",
      "   N    Tit     Tnf  Tnint  Skip  Nact     Projg        F\n",
      "10245   2240   2398      1     0     0   3.821D-02   1.517D+03\n",
      "  F =   1517.0186604950873     \n",
      "\n",
      "CONVERGENCE: REL_REDUCTION_OF_F_<=_FACTR*EPSMCH             \n"
     ]
    },
    {
     "name": "stderr",
     "output_type": "stream",
     "text": [
      "[Parallel(n_jobs=1)]: Done   1 out of   1 | elapsed:  1.3min finished\n",
      "[Parallel(n_jobs=1)]: Using backend SequentialBackend with 1 concurrent workers.\n"
     ]
    },
    {
     "name": "stdout",
     "output_type": "stream",
     "text": [
      "RUNNING THE L-BFGS-B CODE\n",
      "\n",
      "           * * *\n",
      "\n",
      "Machine precision = 2.220D-16\n",
      " N =        10245     M =           10\n",
      "\n",
      "At X0         0 variables are exactly at the bounds\n",
      "\n",
      "At iterate    0    f=  8.04719D+03    |proj g|=  1.28810D+02\n"
     ]
    },
    {
     "name": "stderr",
     "output_type": "stream",
     "text": [
      " This problem is unconstrained.\n"
     ]
    },
    {
     "name": "stdout",
     "output_type": "stream",
     "text": [
      "\n",
      "At iterate   50    f=  5.47417D+03    |proj g|=  1.73830D+02\n",
      "\n",
      "At iterate  100    f=  4.10110D+03    |proj g|=  8.96505D+01\n",
      "\n",
      "At iterate  150    f=  3.18256D+03    |proj g|=  7.77761D+01\n",
      "\n",
      "At iterate  200    f=  2.60455D+03    |proj g|=  4.37742D+01\n",
      "\n",
      "At iterate  250    f=  2.20833D+03    |proj g|=  5.06886D+01\n",
      "\n",
      "At iterate  300    f=  1.94824D+03    |proj g|=  3.14349D+01\n",
      "\n",
      "At iterate  350    f=  1.78442D+03    |proj g|=  2.64201D+01\n",
      "\n",
      "At iterate  400    f=  1.68804D+03    |proj g|=  2.49901D+01\n",
      "\n",
      "At iterate  450    f=  1.63249D+03    |proj g|=  1.59487D+01\n",
      "\n",
      "At iterate  500    f=  1.59551D+03    |proj g|=  9.65489D+00\n",
      "\n",
      "At iterate  550    f=  1.57373D+03    |proj g|=  8.47998D+00\n",
      "\n",
      "At iterate  600    f=  1.55608D+03    |proj g|=  6.12544D+00\n",
      "\n",
      "At iterate  650    f=  1.54307D+03    |proj g|=  5.68676D+00\n",
      "\n",
      "At iterate  700    f=  1.53570D+03    |proj g|=  5.89733D+00\n",
      "\n",
      "At iterate  750    f=  1.52964D+03    |proj g|=  4.22270D+00\n",
      "\n",
      "At iterate  800    f=  1.52493D+03    |proj g|=  3.84157D+00\n",
      "\n",
      "At iterate  850    f=  1.52177D+03    |proj g|=  4.05513D+00\n",
      "\n",
      "At iterate  900    f=  1.51975D+03    |proj g|=  1.94255D+00\n",
      "\n",
      "At iterate  950    f=  1.51825D+03    |proj g|=  2.05963D+00\n",
      "\n",
      "At iterate 1000    f=  1.51717D+03    |proj g|=  2.13334D+00\n",
      "\n",
      "At iterate 1050    f=  1.51632D+03    |proj g|=  1.23256D+00\n",
      "\n",
      "At iterate 1100    f=  1.51572D+03    |proj g|=  1.19118D+00\n",
      "\n",
      "At iterate 1150    f=  1.51533D+03    |proj g|=  1.06979D+00\n",
      "\n",
      "At iterate 1200    f=  1.51507D+03    |proj g|=  1.72638D+00\n",
      "\n",
      "At iterate 1250    f=  1.51484D+03    |proj g|=  8.19375D-01\n",
      "\n",
      "At iterate 1300    f=  1.51468D+03    |proj g|=  8.56201D-01\n",
      "\n",
      "At iterate 1350    f=  1.51456D+03    |proj g|=  6.59859D-01\n",
      "\n",
      "At iterate 1400    f=  1.51447D+03    |proj g|=  5.35748D-01\n",
      "\n",
      "At iterate 1450    f=  1.51440D+03    |proj g|=  4.52094D-01\n",
      "\n",
      "At iterate 1500    f=  1.51436D+03    |proj g|=  3.60938D-01\n",
      "\n",
      "At iterate 1550    f=  1.51434D+03    |proj g|=  7.88308D-01\n",
      "\n",
      "At iterate 1600    f=  1.51431D+03    |proj g|=  3.33345D-01\n",
      "\n",
      "At iterate 1650    f=  1.51430D+03    |proj g|=  2.38884D-01\n",
      "\n",
      "At iterate 1700    f=  1.51429D+03    |proj g|=  1.11137D-01\n",
      "\n",
      "At iterate 1750    f=  1.51429D+03    |proj g|=  1.34967D-01\n",
      "\n",
      "At iterate 1800    f=  1.51428D+03    |proj g|=  1.20812D-01\n",
      "\n",
      "At iterate 1850    f=  1.51428D+03    |proj g|=  1.18137D-01\n",
      "\n",
      "At iterate 1900    f=  1.51427D+03    |proj g|=  1.22792D-01\n",
      "\n",
      "At iterate 1950    f=  1.51427D+03    |proj g|=  9.00912D-02\n",
      "\n",
      "At iterate 2000    f=  1.51427D+03    |proj g|=  9.84825D-02\n",
      "\n",
      "At iterate 2050    f=  1.51426D+03    |proj g|=  1.11027D-01\n",
      "\n",
      "At iterate 2100    f=  1.51426D+03    |proj g|=  5.02165D-02\n",
      "\n",
      "           * * *\n",
      "\n",
      "Tit   = total number of iterations\n",
      "Tnf   = total number of function evaluations\n",
      "Tnint = total number of segments explored during Cauchy searches\n",
      "Skip  = number of BFGS updates skipped\n",
      "Nact  = number of active bounds at final generalized Cauchy point\n",
      "Projg = norm of the final projected gradient\n",
      "F     = final function value\n",
      "\n",
      "           * * *\n",
      "\n",
      "   N    Tit     Tnf  Tnint  Skip  Nact     Projg        F\n",
      "10245   2131   2252      1     0     0   8.037D-02   1.514D+03\n",
      "  F =   1514.2624187957454     \n",
      "\n",
      "CONVERGENCE: REL_REDUCTION_OF_F_<=_FACTR*EPSMCH             \n",
      "RUNNING THE L-BFGS-B CODE\n",
      "\n",
      "           * * *\n",
      "\n",
      "Machine precision = 2.220D-16\n",
      " N =        10245     M =           10\n",
      "\n",
      "At X0         0 variables are exactly at the bounds\n",
      "\n",
      "At iterate    0    f=  8.04719D+03    |proj g|=  1.34639D+02\n"
     ]
    },
    {
     "name": "stderr",
     "output_type": "stream",
     "text": [
      "[Parallel(n_jobs=1)]: Done   1 out of   1 | elapsed:  1.2min finished\n",
      "[Parallel(n_jobs=1)]: Using backend SequentialBackend with 1 concurrent workers.\n",
      " This problem is unconstrained.\n"
     ]
    },
    {
     "name": "stdout",
     "output_type": "stream",
     "text": [
      "\n",
      "At iterate   50    f=  5.45528D+03    |proj g|=  1.39000D+02\n",
      "\n",
      "At iterate  100    f=  4.08964D+03    |proj g|=  1.69831D+02\n",
      "\n",
      "At iterate  150    f=  3.15813D+03    |proj g|=  6.34082D+01\n",
      "\n",
      "At iterate  200    f=  2.58793D+03    |proj g|=  4.07017D+01\n",
      "\n",
      "At iterate  250    f=  2.21064D+03    |proj g|=  5.00000D+01\n",
      "\n",
      "At iterate  300    f=  1.93770D+03    |proj g|=  2.70754D+01\n",
      "\n",
      "At iterate  350    f=  1.78009D+03    |proj g|=  2.59952D+01\n",
      "\n",
      "At iterate  400    f=  1.67909D+03    |proj g|=  1.69117D+01\n",
      "\n",
      "At iterate  450    f=  1.62568D+03    |proj g|=  9.87203D+00\n",
      "\n",
      "At iterate  500    f=  1.58982D+03    |proj g|=  1.13149D+01\n",
      "\n",
      "At iterate  550    f=  1.56090D+03    |proj g|=  6.93875D+00\n",
      "\n",
      "At iterate  600    f=  1.53665D+03    |proj g|=  6.56736D+00\n",
      "\n",
      "At iterate  650    f=  1.51790D+03    |proj g|=  7.43837D+00\n",
      "\n",
      "At iterate  700    f=  1.50725D+03    |proj g|=  4.93606D+00\n",
      "\n",
      "At iterate  750    f=  1.50061D+03    |proj g|=  2.87745D+00\n",
      "\n",
      "At iterate  800    f=  1.49567D+03    |proj g|=  3.10889D+00\n",
      "\n",
      "At iterate  850    f=  1.49240D+03    |proj g|=  5.87786D+00\n",
      "\n",
      "At iterate  900    f=  1.49010D+03    |proj g|=  2.79511D+00\n",
      "\n",
      "At iterate  950    f=  1.48832D+03    |proj g|=  2.77069D+00\n",
      "\n",
      "At iterate 1000    f=  1.48680D+03    |proj g|=  2.21954D+00\n",
      "\n",
      "At iterate 1050    f=  1.48564D+03    |proj g|=  1.49847D+00\n",
      "\n",
      "At iterate 1100    f=  1.48482D+03    |proj g|=  1.37779D+00\n",
      "\n",
      "At iterate 1150    f=  1.48433D+03    |proj g|=  1.30461D+00\n",
      "\n",
      "At iterate 1200    f=  1.48386D+03    |proj g|=  7.65418D-01\n",
      "\n",
      "At iterate 1250    f=  1.48360D+03    |proj g|=  9.83301D-01\n",
      "\n",
      "At iterate 1300    f=  1.48338D+03    |proj g|=  8.05468D-01\n",
      "\n",
      "At iterate 1350    f=  1.48325D+03    |proj g|=  5.38267D-01\n",
      "\n",
      "At iterate 1400    f=  1.48318D+03    |proj g|=  4.00789D-01\n",
      "\n",
      "At iterate 1450    f=  1.48312D+03    |proj g|=  4.73074D-01\n",
      "\n",
      "At iterate 1500    f=  1.48307D+03    |proj g|=  3.29277D-01\n",
      "\n",
      "At iterate 1550    f=  1.48304D+03    |proj g|=  3.07831D-01\n",
      "\n",
      "At iterate 1600    f=  1.48301D+03    |proj g|=  3.32367D-01\n",
      "\n",
      "At iterate 1650    f=  1.48300D+03    |proj g|=  2.79191D-01\n",
      "\n",
      "At iterate 1700    f=  1.48299D+03    |proj g|=  2.37411D-01\n",
      "\n",
      "At iterate 1750    f=  1.48298D+03    |proj g|=  1.32513D-01\n",
      "\n",
      "At iterate 1800    f=  1.48297D+03    |proj g|=  1.40551D-01\n",
      "\n",
      "At iterate 1850    f=  1.48297D+03    |proj g|=  1.05741D-01\n",
      "\n",
      "At iterate 1900    f=  1.48296D+03    |proj g|=  8.33065D-02\n",
      "\n",
      "At iterate 1950    f=  1.48296D+03    |proj g|=  5.86215D-02\n",
      "\n",
      "At iterate 2000    f=  1.48296D+03    |proj g|=  5.66279D-02\n",
      "\n",
      "At iterate 2050    f=  1.48296D+03    |proj g|=  6.51892D-02\n",
      "\n",
      "At iterate 2100    f=  1.48296D+03    |proj g|=  3.50279D-02\n",
      "\n",
      "           * * *\n",
      "\n",
      "Tit   = total number of iterations\n",
      "Tnf   = total number of function evaluations\n",
      "Tnint = total number of segments explored during Cauchy searches\n",
      "Skip  = number of BFGS updates skipped\n",
      "Nact  = number of active bounds at final generalized Cauchy point\n",
      "Projg = norm of the final projected gradient\n",
      "F     = final function value\n",
      "\n",
      "           * * *\n",
      "\n",
      "   N    Tit     Tnf  Tnint  Skip  Nact     Projg        F\n",
      "10245   2109   2250      1     0     0   5.464D-02   1.483D+03\n",
      "  F =   1482.9585379779439     \n",
      "\n",
      "CONVERGENCE: REL_REDUCTION_OF_F_<=_FACTR*EPSMCH             \n"
     ]
    },
    {
     "name": "stderr",
     "output_type": "stream",
     "text": [
      "[Parallel(n_jobs=1)]: Done   1 out of   1 | elapsed:  1.2min finished\n"
     ]
    },
    {
     "data": {
      "text/plain": [
       "array([0.4828, 0.4924, 0.49  ])"
      ]
     },
     "execution_count": 32,
     "metadata": {},
     "output_type": "execute_result"
    }
   ],
   "source": [
    "cross_val_score(lr, X_sc_train, y_sc_train, cv=3)"
   ]
  },
  {
   "attachments": {},
   "cell_type": "markdown",
   "metadata": {},
   "source": [
    "###################################################################################################"
   ]
  },
  {
   "attachments": {},
   "cell_type": "markdown",
   "metadata": {},
   "source": [
    "##### Binary"
   ]
  },
  {
   "cell_type": "code",
   "execution_count": 24,
   "metadata": {},
   "outputs": [],
   "source": [
    "lr_b = make_pipeline(\n",
    "    scaler, \n",
    "    LogisticRegression(random_state=SEED, max_iter=10_000, verbose=1,\n",
    "                       multi_class=\"ovr\", )\n",
    ")"
   ]
  },
  {
   "cell_type": "code",
   "execution_count": 25,
   "metadata": {},
   "outputs": [
    {
     "name": "stderr",
     "output_type": "stream",
     "text": [
      "[Parallel(n_jobs=1)]: Using backend SequentialBackend with 1 concurrent workers.\n",
      " This problem is unconstrained.\n"
     ]
    },
    {
     "name": "stdout",
     "output_type": "stream",
     "text": [
      "RUNNING THE L-BFGS-B CODE\n",
      "\n",
      "           * * *\n",
      "\n",
      "Machine precision = 2.220D-16\n",
      " N =         2049     M =           10\n",
      "\n",
      "At X0         0 variables are exactly at the bounds\n",
      "\n",
      "At iterate    0    f=  1.38629D+04    |proj g|=  5.98400D+03\n",
      "\n",
      "At iterate   50    f=  6.83458D+03    |proj g|=  1.17711D+01\n",
      "\n",
      "At iterate  100    f=  6.83067D+03    |proj g|=  4.78501D-01\n",
      "\n",
      "           * * *\n",
      "\n",
      "Tit   = total number of iterations\n",
      "Tnf   = total number of function evaluations\n",
      "Tnint = total number of segments explored during Cauchy searches\n",
      "Skip  = number of BFGS updates skipped\n",
      "Nact  = number of active bounds at final generalized Cauchy point\n",
      "Projg = norm of the final projected gradient\n",
      "F     = final function value\n",
      "\n",
      "           * * *\n",
      "\n",
      "   N    Tit     Tnf  Tnint  Skip  Nact     Projg        F\n",
      " 2049    132    140      1     0     0   1.409D-01   6.831D+03\n",
      "  F =   6830.6596119460155     \n",
      "\n",
      "CONVERGENCE: REL_REDUCTION_OF_F_<=_FACTR*EPSMCH             \n",
      "RUNNING THE L-BFGS-B CODE\n",
      "\n",
      "           * * *\n",
      "\n",
      "Machine precision = 2.220D-16\n",
      " N =         2049     M =           10\n",
      "\n",
      "At X0         0 variables are exactly at the bounds\n",
      "\n",
      "At iterate    0    f=  1.38629D+04    |proj g|=  6.00800D+03\n"
     ]
    },
    {
     "name": "stderr",
     "output_type": "stream",
     "text": [
      " This problem is unconstrained.\n"
     ]
    },
    {
     "name": "stdout",
     "output_type": "stream",
     "text": [
      "\n",
      "At iterate   50    f=  6.30539D+03    |proj g|=  9.96143D+00\n",
      "\n",
      "At iterate  100    f=  6.30126D+03    |proj g|=  2.86547D-01\n",
      "\n",
      "           * * *\n",
      "\n",
      "Tit   = total number of iterations\n",
      "Tnf   = total number of function evaluations\n",
      "Tnint = total number of segments explored during Cauchy searches\n",
      "Skip  = number of BFGS updates skipped\n",
      "Nact  = number of active bounds at final generalized Cauchy point\n",
      "Projg = norm of the final projected gradient\n",
      "F     = final function value\n",
      "\n",
      "           * * *\n",
      "\n",
      "   N    Tit     Tnf  Tnint  Skip  Nact     Projg        F\n",
      " 2049    125    131      1     0     0   5.322D-02   6.301D+03\n",
      "  F =   6301.2532344132105     \n",
      "\n",
      "CONVERGENCE: REL_REDUCTION_OF_F_<=_FACTR*EPSMCH             \n",
      "RUNNING THE L-BFGS-B CODE\n",
      "\n",
      "           * * *\n",
      "\n",
      "Machine precision = 2.220D-16\n",
      " N =         2049     M =           10\n",
      "\n",
      "At X0         0 variables are exactly at the bounds\n",
      "\n",
      "At iterate    0    f=  1.38629D+04    |proj g|=  6.01000D+03\n"
     ]
    },
    {
     "name": "stderr",
     "output_type": "stream",
     "text": [
      " This problem is unconstrained.\n"
     ]
    },
    {
     "name": "stdout",
     "output_type": "stream",
     "text": [
      "\n",
      "At iterate   50    f=  5.79782D+03    |proj g|=  8.95296D+00\n",
      "\n",
      "At iterate  100    f=  5.79450D+03    |proj g|=  4.05559D-01\n",
      "\n",
      "           * * *\n",
      "\n",
      "Tit   = total number of iterations\n",
      "Tnf   = total number of function evaluations\n",
      "Tnint = total number of segments explored during Cauchy searches\n",
      "Skip  = number of BFGS updates skipped\n",
      "Nact  = number of active bounds at final generalized Cauchy point\n",
      "Projg = norm of the final projected gradient\n",
      "F     = final function value\n",
      "\n",
      "           * * *\n",
      "\n",
      "   N    Tit     Tnf  Tnint  Skip  Nact     Projg        F\n",
      " 2049    128    137      1     0     0   1.728D-01   5.794D+03\n",
      "  F =   5794.4910403424574     \n",
      "\n",
      "CONVERGENCE: REL_REDUCTION_OF_F_<=_FACTR*EPSMCH             \n",
      "RUNNING THE L-BFGS-B CODE\n",
      "\n",
      "           * * *\n",
      "\n",
      "Machine precision = 2.220D-16\n",
      " N =         2049     M =           10\n",
      "\n",
      "At X0         0 variables are exactly at the bounds\n",
      "\n",
      "At iterate    0    f=  1.38629D+04    |proj g|=  6.00200D+03\n"
     ]
    },
    {
     "name": "stderr",
     "output_type": "stream",
     "text": [
      " This problem is unconstrained.\n"
     ]
    },
    {
     "name": "stdout",
     "output_type": "stream",
     "text": [
      "\n",
      "At iterate   50    f=  5.95859D+03    |proj g|=  1.24825D+01\n",
      "\n",
      "At iterate  100    f=  5.95407D+03    |proj g|=  4.22238D-01\n",
      "\n",
      "           * * *\n",
      "\n",
      "Tit   = total number of iterations\n",
      "Tnf   = total number of function evaluations\n",
      "Tnint = total number of segments explored during Cauchy searches\n",
      "Skip  = number of BFGS updates skipped\n",
      "Nact  = number of active bounds at final generalized Cauchy point\n",
      "Projg = norm of the final projected gradient\n",
      "F     = final function value\n",
      "\n",
      "           * * *\n",
      "\n",
      "   N    Tit     Tnf  Tnint  Skip  Nact     Projg        F\n",
      " 2049    137    145      1     0     0   1.281D-01   5.954D+03\n",
      "  F =   5954.0638390328049     \n",
      "\n",
      "CONVERGENCE: REL_REDUCTION_OF_F_<=_FACTR*EPSMCH             \n",
      "RUNNING THE L-BFGS-B CODE\n",
      "\n",
      "           * * *\n",
      "\n",
      "Machine precision = 2.220D-16\n",
      " N =         2049     M =           10\n",
      "\n",
      "At X0         0 variables are exactly at the bounds\n",
      "\n",
      "At iterate    0    f=  1.38629D+04    |proj g|=  5.99600D+03\n"
     ]
    },
    {
     "name": "stderr",
     "output_type": "stream",
     "text": [
      " This problem is unconstrained.\n"
     ]
    },
    {
     "name": "stdout",
     "output_type": "stream",
     "text": [
      "\n",
      "At iterate   50    f=  6.21959D+03    |proj g|=  1.40154D+01\n",
      "\n",
      "At iterate  100    f=  6.21542D+03    |proj g|=  8.65345D-01\n",
      "\n",
      "           * * *\n",
      "\n",
      "Tit   = total number of iterations\n",
      "Tnf   = total number of function evaluations\n",
      "Tnint = total number of segments explored during Cauchy searches\n",
      "Skip  = number of BFGS updates skipped\n",
      "Nact  = number of active bounds at final generalized Cauchy point\n",
      "Projg = norm of the final projected gradient\n",
      "F     = final function value\n",
      "\n",
      "           * * *\n",
      "\n",
      "   N    Tit     Tnf  Tnint  Skip  Nact     Projg        F\n",
      " 2049    133    147      1     0     0   1.324D-01   6.215D+03\n",
      "  F =   6215.4141656916254     \n",
      "\n",
      "CONVERGENCE: REL_REDUCTION_OF_F_<=_FACTR*EPSMCH             \n"
     ]
    },
    {
     "name": "stderr",
     "output_type": "stream",
     "text": [
      "[Parallel(n_jobs=1)]: Done   5 out of   5 | elapsed:   22.5s finished\n"
     ]
    },
    {
     "data": {
      "text/plain": [
       "Pipeline(steps=[('standardscaler', StandardScaler()),\n",
       "                ('logisticregression',\n",
       "                 LogisticRegression(max_iter=10000, multi_class='ovr',\n",
       "                                    random_state=42, verbose=1))])"
      ]
     },
     "execution_count": 25,
     "metadata": {},
     "output_type": "execute_result"
    }
   ],
   "source": [
    "lr_b.fit(X_train, y_train)"
   ]
  },
  {
   "cell_type": "code",
   "execution_count": 26,
   "metadata": {},
   "outputs": [
    {
     "name": "stdout",
     "output_type": "stream",
     "text": [
      "              precision    recall  f1-score   support\n",
      "\n",
      "         0.0       0.44      0.41      0.43       984\n",
      "         1.0       0.51      0.53      0.52      1008\n",
      "         2.0       0.53      0.52      0.52      1010\n",
      "         3.0       0.49      0.50      0.49      1002\n",
      "         4.0       0.51      0.53      0.52       996\n",
      "\n",
      "    accuracy                           0.50      5000\n",
      "   macro avg       0.50      0.50      0.50      5000\n",
      "weighted avg       0.50      0.50      0.50      5000\n",
      "\n"
     ]
    }
   ],
   "source": [
    "print(classification_report(y_test, lr_b.predict(X_test)))"
   ]
  },
  {
   "attachments": {},
   "cell_type": "markdown",
   "metadata": {},
   "source": [
    "### k-NN"
   ]
  },
  {
   "cell_type": "code",
   "execution_count": 16,
   "metadata": {},
   "outputs": [],
   "source": [
    "from sklearn.neighbors import KNeighborsClassifier\n",
    "from sklearn.metrics.pairwise import cosine_similarity"
   ]
  },
  {
   "cell_type": "code",
   "execution_count": 17,
   "metadata": {},
   "outputs": [],
   "source": [
    "knn = make_pipeline(\n",
    "    scaler,\n",
    "    KNeighborsClassifier(\n",
    "        n_neighbors=20,\n",
    "        weights=\"distance\",\n",
    "        metric=\"cosine\"\n",
    "    )\n",
    ")"
   ]
  },
  {
   "cell_type": "code",
   "execution_count": 18,
   "metadata": {},
   "outputs": [
    {
     "data": {
      "text/plain": [
       "Pipeline(steps=[('standardscaler', StandardScaler()),\n",
       "                ('kneighborsclassifier',\n",
       "                 KNeighborsClassifier(metric='cosine', n_neighbors=20,\n",
       "                                      weights='distance'))])"
      ]
     },
     "execution_count": 18,
     "metadata": {},
     "output_type": "execute_result"
    }
   ],
   "source": [
    "knn.fit(X_train, y_train)"
   ]
  },
  {
   "cell_type": "code",
   "execution_count": 19,
   "metadata": {},
   "outputs": [
    {
     "name": "stdout",
     "output_type": "stream",
     "text": [
      "              precision    recall  f1-score   support\n",
      "\n",
      "         0.0       0.45      0.47      0.46       984\n",
      "         1.0       0.54      0.48      0.51      1008\n",
      "         2.0       0.56      0.53      0.54      1010\n",
      "         3.0       0.47      0.57      0.51      1002\n",
      "         4.0       0.51      0.47      0.49       996\n",
      "\n",
      "    accuracy                           0.50      5000\n",
      "   macro avg       0.51      0.50      0.50      5000\n",
      "weighted avg       0.51      0.50      0.50      5000\n",
      "\n"
     ]
    }
   ],
   "source": [
    "print(classification_report(y_test, knn.predict(X_test)))"
   ]
  },
  {
   "cell_type": "markdown",
   "metadata": {},
   "source": [
    "### SVM "
   ]
  },
  {
   "cell_type": "code",
   "execution_count": 20,
   "metadata": {},
   "outputs": [],
   "source": [
    "from sklearn.svm import SVC"
   ]
  },
  {
   "cell_type": "code",
   "execution_count": 21,
   "metadata": {},
   "outputs": [],
   "source": [
    "svm = make_pipeline(\n",
    "    scaler, \n",
    "    SVC(\n",
    "        gamma='auto',\n",
    "        verbose=1,\n",
    "        random_state=SEED\n",
    "    )\n",
    ")"
   ]
  },
  {
   "cell_type": "code",
   "execution_count": 22,
   "metadata": {},
   "outputs": [
    {
     "name": "stdout",
     "output_type": "stream",
     "text": [
      "[LibSVM]......*..*\n",
      "optimization finished, #iter = 8896\n",
      "obj = -3753.703497, rho = -0.503879\n",
      "nSV = 7108, nBSV = 3982\n",
      "......*..*\n",
      "optimization finished, #iter = 8706\n",
      "obj = -3602.427911, rho = -0.340977\n",
      "nSV = 6904, nBSV = 3729\n",
      "......*..*\n",
      "optimization finished, #iter = 8754\n",
      "obj = -3926.758203, rho = -0.024572\n",
      "nSV = 7252, nBSV = 4174\n",
      "......*..*\n",
      "optimization finished, #iter = 8525\n",
      "obj = -3890.490080, rho = -0.436013\n",
      "nSV = 7160, nBSV = 4140\n",
      "......*..*\n",
      "optimization finished, #iter = 8645\n",
      "obj = -3341.289231, rho = 0.153269\n",
      "nSV = 6657, nBSV = 3519\n",
      "......*..*\n",
      "optimization finished, #iter = 8697\n",
      "obj = -3633.677768, rho = 0.580606\n",
      "nSV = 6923, nBSV = 3920\n",
      "......*..*\n",
      "optimization finished, #iter = 8739\n",
      "obj = -3649.357154, rho = 0.143054\n",
      "nSV = 6927, nBSV = 3883\n",
      "......*...*\n",
      "optimization finished, #iter = 9045\n",
      "obj = -3241.375244, rho = 0.366002\n",
      "nSV = 6630, nBSV = 3277\n",
      "......*..*\n",
      "optimization finished, #iter = 8469\n",
      "obj = -3782.299833, rho = -0.013008\n",
      "nSV = 7015, nBSV = 4058\n",
      "......*...*\n",
      "optimization finished, #iter = 9047\n",
      "obj = -3308.359803, rho = -0.397541\n",
      "nSV = 6704, nBSV = 3413\n",
      "Total nSV = 19590\n"
     ]
    },
    {
     "data": {
      "text/plain": [
       "Pipeline(steps=[('standardscaler', StandardScaler()),\n",
       "                ('svc', SVC(gamma='auto', random_state=42, verbose=1))])"
      ]
     },
     "execution_count": 22,
     "metadata": {},
     "output_type": "execute_result"
    }
   ],
   "source": [
    "svm.fit(X_train, y_train)"
   ]
  },
  {
   "cell_type": "code",
   "execution_count": 23,
   "metadata": {},
   "outputs": [
    {
     "name": "stdout",
     "output_type": "stream",
     "text": [
      "              precision    recall  f1-score   support\n",
      "\n",
      "         0.0       0.53      0.53      0.53       984\n",
      "         1.0       0.61      0.62      0.62      1008\n",
      "         2.0       0.62      0.63      0.62      1010\n",
      "         3.0       0.60      0.57      0.59      1002\n",
      "         4.0       0.59      0.59      0.59       996\n",
      "\n",
      "    accuracy                           0.59      5000\n",
      "   macro avg       0.59      0.59      0.59      5000\n",
      "weighted avg       0.59      0.59      0.59      5000\n",
      "\n"
     ]
    }
   ],
   "source": [
    "print(classification_report(y_test, svm.predict(X_test)))"
   ]
  }
 ],
 "metadata": {
  "kernelspec": {
   "display_name": "base",
   "language": "python",
   "name": "python3"
  },
  "language_info": {
   "codemirror_mode": {
    "name": "ipython",
    "version": 3
   },
   "file_extension": ".py",
   "mimetype": "text/x-python",
   "name": "python",
   "nbconvert_exporter": "python",
   "pygments_lexer": "ipython3",
   "version": "3.9.13"
  }
 },
 "nbformat": 4,
 "nbformat_minor": 2
}
